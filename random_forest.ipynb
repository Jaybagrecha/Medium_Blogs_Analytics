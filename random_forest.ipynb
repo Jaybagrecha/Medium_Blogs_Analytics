{
 "cells": [
  {
   "cell_type": "code",
   "execution_count": 138,
   "metadata": {},
   "outputs": [],
   "source": [
    "import pandas as pd\n",
    "import numpy as np\n",
    "from sklearn.ensemble import RandomForestClassifier, RandomForestRegressor\n",
    "from sklearn.model_selection import train_test_split, GridSearchCV\n",
    "from sklearn.metrics import log_loss\n",
    "import math\n",
    "import matplotlib.pyplot as plt\n",
    "%matplotlib inline "
   ]
  },
  {
   "cell_type": "code",
   "execution_count": 100,
   "metadata": {},
   "outputs": [
    {
     "data": {
      "text/html": [
       "<div>\n",
       "<style scoped>\n",
       "    .dataframe tbody tr th:only-of-type {\n",
       "        vertical-align: middle;\n",
       "    }\n",
       "\n",
       "    .dataframe tbody tr th {\n",
       "        vertical-align: top;\n",
       "    }\n",
       "\n",
       "    .dataframe thead th {\n",
       "        text-align: right;\n",
       "    }\n",
       "</style>\n",
       "<table border=\"1\" class=\"dataframe\">\n",
       "  <thead>\n",
       "    <tr style=\"text-align: right;\">\n",
       "      <th></th>\n",
       "      <th>title_words</th>\n",
       "      <th>days_passed</th>\n",
       "      <th>ct_image</th>\n",
       "      <th>ct_tags</th>\n",
       "      <th>ct_words</th>\n",
       "      <th>title_emot_quotient</th>\n",
       "      <th>featured_in_tds</th>\n",
       "      <th>read_time</th>\n",
       "      <th>claps</th>\n",
       "      <th>img/word</th>\n",
       "    </tr>\n",
       "  </thead>\n",
       "  <tbody>\n",
       "    <tr>\n",
       "      <th>0</th>\n",
       "      <td>6.0</td>\n",
       "      <td>1.0</td>\n",
       "      <td>8.0</td>\n",
       "      <td>5.0</td>\n",
       "      <td>2493.0</td>\n",
       "      <td>0.000</td>\n",
       "      <td>True</td>\n",
       "      <td>11.0</td>\n",
       "      <td>683.0</td>\n",
       "      <td>0.003209</td>\n",
       "    </tr>\n",
       "    <tr>\n",
       "      <th>1</th>\n",
       "      <td>10.0</td>\n",
       "      <td>1.0</td>\n",
       "      <td>7.0</td>\n",
       "      <td>5.0</td>\n",
       "      <td>2301.0</td>\n",
       "      <td>0.874</td>\n",
       "      <td>True</td>\n",
       "      <td>11.0</td>\n",
       "      <td>696.0</td>\n",
       "      <td>0.003042</td>\n",
       "    </tr>\n",
       "    <tr>\n",
       "      <th>2</th>\n",
       "      <td>5.0</td>\n",
       "      <td>2.0</td>\n",
       "      <td>4.0</td>\n",
       "      <td>5.0</td>\n",
       "      <td>547.0</td>\n",
       "      <td>0.000</td>\n",
       "      <td>True</td>\n",
       "      <td>3.0</td>\n",
       "      <td>496.0</td>\n",
       "      <td>0.007313</td>\n",
       "    </tr>\n",
       "    <tr>\n",
       "      <th>3</th>\n",
       "      <td>8.0</td>\n",
       "      <td>2.0</td>\n",
       "      <td>2.0</td>\n",
       "      <td>5.0</td>\n",
       "      <td>661.0</td>\n",
       "      <td>0.250</td>\n",
       "      <td>True</td>\n",
       "      <td>3.0</td>\n",
       "      <td>2700.0</td>\n",
       "      <td>0.003026</td>\n",
       "    </tr>\n",
       "    <tr>\n",
       "      <th>4</th>\n",
       "      <td>4.0</td>\n",
       "      <td>0.0</td>\n",
       "      <td>5.0</td>\n",
       "      <td>5.0</td>\n",
       "      <td>499.0</td>\n",
       "      <td>0.000</td>\n",
       "      <td>False</td>\n",
       "      <td>3.0</td>\n",
       "      <td>8.0</td>\n",
       "      <td>0.010020</td>\n",
       "    </tr>\n",
       "  </tbody>\n",
       "</table>\n",
       "</div>"
      ],
      "text/plain": [
       "   title_words  days_passed  ct_image  ct_tags  ct_words  title_emot_quotient  \\\n",
       "0          6.0          1.0       8.0      5.0    2493.0                0.000   \n",
       "1         10.0          1.0       7.0      5.0    2301.0                0.874   \n",
       "2          5.0          2.0       4.0      5.0     547.0                0.000   \n",
       "3          8.0          2.0       2.0      5.0     661.0                0.250   \n",
       "4          4.0          0.0       5.0      5.0     499.0                0.000   \n",
       "\n",
       "   featured_in_tds  read_time   claps  img/word  \n",
       "0             True       11.0   683.0  0.003209  \n",
       "1             True       11.0   696.0  0.003042  \n",
       "2             True        3.0   496.0  0.007313  \n",
       "3             True        3.0  2700.0  0.003026  \n",
       "4            False        3.0     8.0  0.010020  "
      ]
     },
     "execution_count": 100,
     "metadata": {},
     "output_type": "execute_result"
    }
   ],
   "source": [
    "data = pd.read_csv('data.csv')\n",
    "data.head()"
   ]
  },
  {
   "cell_type": "code",
   "execution_count": 101,
   "metadata": {},
   "outputs": [
    {
     "name": "stdout",
     "output_type": "stream",
     "text": [
      "<class 'pandas.core.frame.DataFrame'>\n",
      "RangeIndex: 635 entries, 0 to 634\n",
      "Data columns (total 10 columns):\n",
      "title_words            635 non-null float64\n",
      "days_passed            635 non-null float64\n",
      "ct_image               635 non-null float64\n",
      "ct_tags                635 non-null float64\n",
      "ct_words               635 non-null float64\n",
      "title_emot_quotient    635 non-null float64\n",
      "featured_in_tds        635 non-null bool\n",
      "read_time              635 non-null float64\n",
      "claps                  635 non-null float64\n",
      "img/word               635 non-null float64\n",
      "dtypes: bool(1), float64(9)\n",
      "memory usage: 45.3 KB\n"
     ]
    }
   ],
   "source": [
    "data.info()"
   ]
  },
  {
   "cell_type": "code",
   "execution_count": 102,
   "metadata": {},
   "outputs": [
    {
     "data": {
      "text/plain": [
       "(title_words               16.000000\n",
       " days_passed              835.000000\n",
       " ct_image                  35.000000\n",
       " ct_tags                    5.000000\n",
       " ct_words                6753.000000\n",
       " title_emot_quotient        0.874000\n",
       " featured_in_tds            1.000000\n",
       " read_time                 27.000000\n",
       " claps                  22000.000000\n",
       " img/word                   0.075342\n",
       " dtype: float64, title_words             2.0\n",
       " days_passed             0.0\n",
       " ct_image                0.0\n",
       " ct_tags                 0.0\n",
       " ct_words               16.0\n",
       " title_emot_quotient     0.0\n",
       " featured_in_tds         0.0\n",
       " read_time               2.0\n",
       " claps                   2.0\n",
       " img/word                0.0\n",
       " dtype: float64)"
      ]
     },
     "execution_count": 102,
     "metadata": {},
     "output_type": "execute_result"
    }
   ],
   "source": [
    "data.max(), data.min()"
   ]
  },
  {
   "cell_type": "code",
   "execution_count": 103,
   "metadata": {},
   "outputs": [
    {
     "data": {
      "text/plain": [
       "title_words            0\n",
       "days_passed            0\n",
       "ct_image               0\n",
       "ct_tags                0\n",
       "ct_words               0\n",
       "title_emot_quotient    0\n",
       "featured_in_tds        0\n",
       "read_time              0\n",
       "claps                  0\n",
       "img/word               0\n",
       "dtype: int64"
      ]
     },
     "execution_count": 103,
     "metadata": {},
     "output_type": "execute_result"
    }
   ],
   "source": [
    "data.isnull().sum()"
   ]
  },
  {
   "cell_type": "code",
   "execution_count": 104,
   "metadata": {},
   "outputs": [
    {
     "data": {
      "text/plain": [
       "(2.0, 22000.0)"
      ]
     },
     "execution_count": 104,
     "metadata": {},
     "output_type": "execute_result"
    }
   ],
   "source": [
    "data.claps.min(), data.claps.max()"
   ]
  },
  {
   "cell_type": "markdown",
   "metadata": {},
   "source": [
    "Bucket by proportion"
   ]
  },
  {
   "cell_type": "code",
   "execution_count": 151,
   "metadata": {},
   "outputs": [],
   "source": [
    "claps=pd.Series(data['claps'])\n",
    "n_buckets = 50\n",
    "buckets, bins = pd.cut(claps, n_buckets, labels=False, retbins=True, precision=4) \n",
    "bins = pd.Series(bins).apply(lambda x: format(x, 'f'))\n",
    "#bins"
   ]
  },
  {
   "cell_type": "code",
   "execution_count": 152,
   "metadata": {},
   "outputs": [
    {
     "data": {
      "text/html": [
       "<div>\n",
       "<style scoped>\n",
       "    .dataframe tbody tr th:only-of-type {\n",
       "        vertical-align: middle;\n",
       "    }\n",
       "\n",
       "    .dataframe tbody tr th {\n",
       "        vertical-align: top;\n",
       "    }\n",
       "\n",
       "    .dataframe thead th {\n",
       "        text-align: right;\n",
       "    }\n",
       "</style>\n",
       "<table border=\"1\" class=\"dataframe\">\n",
       "  <thead>\n",
       "    <tr style=\"text-align: right;\">\n",
       "      <th></th>\n",
       "      <th>title_words</th>\n",
       "      <th>days_passed</th>\n",
       "      <th>ct_image</th>\n",
       "      <th>ct_tags</th>\n",
       "      <th>ct_words</th>\n",
       "      <th>title_emot_quotient</th>\n",
       "      <th>featured_in_tds</th>\n",
       "      <th>read_time</th>\n",
       "      <th>claps</th>\n",
       "      <th>img/word</th>\n",
       "      <th>new_claps</th>\n",
       "    </tr>\n",
       "  </thead>\n",
       "  <tbody>\n",
       "    <tr>\n",
       "      <th>0</th>\n",
       "      <td>6.0</td>\n",
       "      <td>1.0</td>\n",
       "      <td>8.0</td>\n",
       "      <td>5.0</td>\n",
       "      <td>2493.0</td>\n",
       "      <td>0.000</td>\n",
       "      <td>True</td>\n",
       "      <td>11.0</td>\n",
       "      <td>683.0</td>\n",
       "      <td>0.003209</td>\n",
       "      <td>1</td>\n",
       "    </tr>\n",
       "    <tr>\n",
       "      <th>1</th>\n",
       "      <td>10.0</td>\n",
       "      <td>1.0</td>\n",
       "      <td>7.0</td>\n",
       "      <td>5.0</td>\n",
       "      <td>2301.0</td>\n",
       "      <td>0.874</td>\n",
       "      <td>True</td>\n",
       "      <td>11.0</td>\n",
       "      <td>696.0</td>\n",
       "      <td>0.003042</td>\n",
       "      <td>1</td>\n",
       "    </tr>\n",
       "    <tr>\n",
       "      <th>2</th>\n",
       "      <td>5.0</td>\n",
       "      <td>2.0</td>\n",
       "      <td>4.0</td>\n",
       "      <td>5.0</td>\n",
       "      <td>547.0</td>\n",
       "      <td>0.000</td>\n",
       "      <td>True</td>\n",
       "      <td>3.0</td>\n",
       "      <td>496.0</td>\n",
       "      <td>0.007313</td>\n",
       "      <td>1</td>\n",
       "    </tr>\n",
       "    <tr>\n",
       "      <th>3</th>\n",
       "      <td>8.0</td>\n",
       "      <td>2.0</td>\n",
       "      <td>2.0</td>\n",
       "      <td>5.0</td>\n",
       "      <td>661.0</td>\n",
       "      <td>0.250</td>\n",
       "      <td>True</td>\n",
       "      <td>3.0</td>\n",
       "      <td>2700.0</td>\n",
       "      <td>0.003026</td>\n",
       "      <td>6</td>\n",
       "    </tr>\n",
       "    <tr>\n",
       "      <th>4</th>\n",
       "      <td>4.0</td>\n",
       "      <td>0.0</td>\n",
       "      <td>5.0</td>\n",
       "      <td>5.0</td>\n",
       "      <td>499.0</td>\n",
       "      <td>0.000</td>\n",
       "      <td>False</td>\n",
       "      <td>3.0</td>\n",
       "      <td>8.0</td>\n",
       "      <td>0.010020</td>\n",
       "      <td>0</td>\n",
       "    </tr>\n",
       "  </tbody>\n",
       "</table>\n",
       "</div>"
      ],
      "text/plain": [
       "   title_words  days_passed  ct_image  ct_tags  ct_words  title_emot_quotient  \\\n",
       "0          6.0          1.0       8.0      5.0    2493.0                0.000   \n",
       "1         10.0          1.0       7.0      5.0    2301.0                0.874   \n",
       "2          5.0          2.0       4.0      5.0     547.0                0.000   \n",
       "3          8.0          2.0       2.0      5.0     661.0                0.250   \n",
       "4          4.0          0.0       5.0      5.0     499.0                0.000   \n",
       "\n",
       "   featured_in_tds  read_time   claps  img/word  new_claps  \n",
       "0             True       11.0   683.0  0.003209          1  \n",
       "1             True       11.0   696.0  0.003042          1  \n",
       "2             True        3.0   496.0  0.007313          1  \n",
       "3             True        3.0  2700.0  0.003026          6  \n",
       "4            False        3.0     8.0  0.010020          0  "
      ]
     },
     "execution_count": 152,
     "metadata": {},
     "output_type": "execute_result"
    }
   ],
   "source": [
    "data['new_claps'] = buckets\n",
    "#data['new_claps'] = data.claps.rank(method='dense').astype(int)\n",
    "data.head()"
   ]
  },
  {
   "cell_type": "code",
   "execution_count": 153,
   "metadata": {},
   "outputs": [
    {
     "data": {
      "text/plain": [
       "0     383\n",
       "1     117\n",
       "2      62\n",
       "3      21\n",
       "4      13\n",
       "5       9\n",
       "6       5\n",
       "9       3\n",
       "8       3\n",
       "10      3\n",
       "13      3\n",
       "15      3\n",
       "24      2\n",
       "35      1\n",
       "11      1\n",
       "7       1\n",
       "14      1\n",
       "16      1\n",
       "29      1\n",
       "33      1\n",
       "49      1\n",
       "Name: new_claps, dtype: int64"
      ]
     },
     "execution_count": 153,
     "metadata": {},
     "output_type": "execute_result"
    }
   ],
   "source": [
    "# bins[data['new_claps']]\n",
    "# pd.concat([pd.Series(data['claps']), pd.Series(data['new_claps'])\n",
    "data.new_claps.value_counts()"
   ]
  },
  {
   "cell_type": "code",
   "execution_count": 154,
   "metadata": {},
   "outputs": [],
   "source": [
    "y = data['new_claps']\n",
    "X = data.drop(['claps', 'new_claps'], axis = 1)"
   ]
  },
  {
   "cell_type": "code",
   "execution_count": 155,
   "metadata": {},
   "outputs": [],
   "source": [
    "X_train, X_val, y_train, y_val = train_test_split(X, y, test_size=0.20, random_state=10)"
   ]
  },
  {
   "cell_type": "code",
   "execution_count": 156,
   "metadata": {},
   "outputs": [
    {
     "data": {
      "text/plain": [
       "((508, 9), (127, 9))"
      ]
     },
     "execution_count": 156,
     "metadata": {},
     "output_type": "execute_result"
    }
   ],
   "source": [
    "X_train.shape, X_val.shape"
   ]
  },
  {
   "cell_type": "code",
   "execution_count": 157,
   "metadata": {},
   "outputs": [],
   "source": [
    "rf = RandomForestClassifier()"
   ]
  },
  {
   "cell_type": "code",
   "execution_count": 158,
   "metadata": {},
   "outputs": [
    {
     "data": {
      "text/plain": [
       "RandomForestClassifier(bootstrap=True, class_weight=None, criterion='gini',\n",
       "            max_depth=None, max_features='auto', max_leaf_nodes=None,\n",
       "            min_impurity_decrease=0.0, min_impurity_split=None,\n",
       "            min_samples_leaf=1, min_samples_split=2,\n",
       "            min_weight_fraction_leaf=0.0, n_estimators=10, n_jobs=1,\n",
       "            oob_score=False, random_state=None, verbose=0,\n",
       "            warm_start=False)"
      ]
     },
     "execution_count": 158,
     "metadata": {},
     "output_type": "execute_result"
    }
   ],
   "source": [
    "rf.fit(X_train, y_train)"
   ]
  },
  {
   "cell_type": "code",
   "execution_count": 161,
   "metadata": {
    "scrolled": true
   },
   "outputs": [
    {
     "data": {
      "text/plain": [
       "array([[ 0.8,  0. ,  0.1, ...,  0. ,  0. ,  0. ],\n",
       "       [ 0.7,  0.2,  0. , ...,  0. ,  0. ,  0. ],\n",
       "       [ 0.9,  0. ,  0. , ...,  0. ,  0. ,  0. ],\n",
       "       ..., \n",
       "       [ 0.8,  0.2,  0. , ...,  0. ,  0. ,  0. ],\n",
       "       [ 0.6,  0.2,  0.2, ...,  0. ,  0. ,  0. ],\n",
       "       [ 0.2,  0.4,  0.1, ...,  0. ,  0. ,  0. ]])"
      ]
     },
     "execution_count": 161,
     "metadata": {},
     "output_type": "execute_result"
    }
   ],
   "source": [
    "val_pred = rf.predict_proba(X_val)\n",
    "#log_loss(y_val, val_pred)\n",
    "val_pred"
   ]
  },
  {
   "cell_type": "code",
   "execution_count": 163,
   "metadata": {},
   "outputs": [
    {
     "data": {
      "text/plain": [
       "5.6137477086419567"
      ]
     },
     "execution_count": 163,
     "metadata": {},
     "output_type": "execute_result"
    }
   ],
   "source": [
    "log_loss(y_val, val_pred, labels=rf.classes_)"
   ]
  },
  {
   "cell_type": "code",
   "execution_count": 164,
   "metadata": {},
   "outputs": [
    {
     "data": {
      "text/plain": [
       "20"
      ]
     },
     "execution_count": 164,
     "metadata": {},
     "output_type": "execute_result"
    }
   ],
   "source": [
    "len(val_pred[0])"
   ]
  },
  {
   "cell_type": "code",
   "execution_count": 165,
   "metadata": {},
   "outputs": [
    {
     "data": {
      "text/plain": [
       "array([ 0,  1,  2,  3,  4,  5,  6,  7,  8,  9, 10, 11, 13, 14, 15, 16, 29,\n",
       "       33, 35, 49])"
      ]
     },
     "execution_count": 165,
     "metadata": {},
     "output_type": "execute_result"
    }
   ],
   "source": [
    "rf.classes_"
   ]
  },
  {
   "cell_type": "code",
   "execution_count": 166,
   "metadata": {},
   "outputs": [
    {
     "name": "stderr",
     "output_type": "stream",
     "text": [
      "/Users/neerjadoshi/anaconda2/envs/fastai/lib/python3.6/site-packages/sklearn/model_selection/_split.py:605: Warning: The least populated class in y has only 1 members, which is too few. The minimum number of members in any class cannot be less than n_splits=5.\n",
      "  % (min_groups, self.n_splits)), Warning)\n"
     ]
    },
    {
     "data": {
      "text/plain": [
       "RandomForestClassifier(bootstrap=True, class_weight=None, criterion='gini',\n",
       "            max_depth=None, max_features='sqrt', max_leaf_nodes=None,\n",
       "            min_impurity_decrease=0.0, min_impurity_split=None,\n",
       "            min_samples_leaf=5, min_samples_split=2,\n",
       "            min_weight_fraction_leaf=0.0, n_estimators=10, n_jobs=1,\n",
       "            oob_score=False, random_state=None, verbose=0,\n",
       "            warm_start=False)"
      ]
     },
     "execution_count": 166,
     "metadata": {},
     "output_type": "execute_result"
    }
   ],
   "source": [
    "grid = {'min_samples_leaf' : [3,5], 'max_features' : ['auto', 'log2', 'sqrt']\n",
    "       }\n",
    "clf = GridSearchCV(rf, grid, cv=5)\n",
    "clf.fit(X_train, y_train)\n",
    "clf.best_estimator_"
   ]
  },
  {
   "cell_type": "code",
   "execution_count": 178,
   "metadata": {},
   "outputs": [],
   "source": [
    "rf = RandomForestClassifier(min_samples_leaf=5, max_features='sqrt', n_estimators=50, random_state=10, class_weight='balanced')\n",
    "\n",
    "rf.fit(X_train, y_train, )\n",
    "val_pred_probs = rf.predict_proba(X_val)\n",
    "\n",
    "val_pred = rf.predict(X_val)"
   ]
  },
  {
   "cell_type": "code",
   "execution_count": 179,
   "metadata": {},
   "outputs": [
    {
     "data": {
      "text/plain": [
       "2.4372088804265037"
      ]
     },
     "execution_count": 179,
     "metadata": {},
     "output_type": "execute_result"
    }
   ],
   "source": [
    "log_loss(y_val, val_pred_probs, labels=rf.classes_)"
   ]
  },
  {
   "cell_type": "code",
   "execution_count": 180,
   "metadata": {},
   "outputs": [
    {
     "data": {
      "text/plain": [
       "array([ 1,  0,  0,  0, 10,  1,  1,  3, 14,  0,  2,  3,  0,  0,  2,  0,  1,\n",
       "        0, 15,  0,  0,  3,  0,  3,  9, 10, 49, 11,  0,  1,  2, 10, 10,  1,\n",
       "        4,  1,  0,  1,  3,  1,  0,  3,  2,  1,  0,  3,  0,  1,  1,  0,  0,\n",
       "        0,  1, 14, 16, 10,  0,  0,  2,  0,  1, 10,  1,  0,  2,  0,  2,  1,\n",
       "        0, 15,  0, 15,  0,  1,  1,  0,  1,  0, 29,  2,  1,  0,  3,  0,  0,\n",
       "       11,  1,  0,  0,  1,  0,  3,  1,  0,  0, 11,  2,  0,  0,  2,  0,  0,\n",
       "        1,  9, 35,  1,  3,  2,  0,  0,  1,  0,  1, 11, 49,  1,  1,  0, 10,\n",
       "        0,  7,  4,  0,  2,  0,  2,  1])"
      ]
     },
     "execution_count": 180,
     "metadata": {},
     "output_type": "execute_result"
    }
   ],
   "source": [
    "val_pred"
   ]
  },
  {
   "cell_type": "code",
   "execution_count": 181,
   "metadata": {},
   "outputs": [
    {
     "data": {
      "image/png": "[encoded data removed]",
      "text/plain": [
       "<matplotlib.figure.Figure at 0x10c685668>"
      ]
     },
     "metadata": {},
     "output_type": "display_data"
    }
   ],
   "source": [
    "plt.scatter(y_val, val_pred, c=np.subtract(y_val, val_pred), cmap=plt.cm.Blues)\n",
    "plt.ylabel('Predicted Claps')\n",
    "plt.xlabel('Actual Claps')\n",
    "plt.show()"
   ]
  },
  {
   "cell_type": "code",
   "execution_count": 182,
   "metadata": {},
   "outputs": [
    {
     "data": {
      "image/png": "[encoded data removed]",
      "text/plain": [
       "<matplotlib.figure.Figure at 0x102444be0>"
      ]
     },
     "metadata": {},
     "output_type": "display_data"
    }
   ],
   "source": [
    "plt.hist(abs(np.subtract(y_val, val_pred)))\n",
    "\n",
    "plt.show()"
   ]
  },
  {
   "cell_type": "code",
   "execution_count": 183,
   "metadata": {
    "scrolled": false
   },
   "outputs": [
    {
     "data": {
      "text/plain": [
       " 0     48\n",
       "-1     18\n",
       "-2     12\n",
       " 2      5\n",
       " 1      5\n",
       "-10     4\n",
       "-3      3\n",
       " 3      3\n",
       " 4      3\n",
       "-14     3\n",
       "-11     3\n",
       "-9      3\n",
       " 5      2\n",
       "-7      2\n",
       "-25     1\n",
       " 7      1\n",
       "-8      1\n",
       "-4      1\n",
       " 8      1\n",
       "-16     1\n",
       "-47     1\n",
       "-35     1\n",
       "-12     1\n",
       " 12     1\n",
       "-13     1\n",
       " 14     1\n",
       "-29     1\n",
       "Name: new_claps, dtype: int64"
      ]
     },
     "execution_count": 183,
     "metadata": {},
     "output_type": "execute_result"
    }
   ],
   "source": [
    "np.subtract(y_val, val_pred).value_counts()"
   ]
  },
  {
   "cell_type": "code",
   "execution_count": 184,
   "metadata": {},
   "outputs": [
    {
     "data": {
      "text/html": [
       "<div>\n",
       "<style scoped>\n",
       "    .dataframe tbody tr th:only-of-type {\n",
       "        vertical-align: middle;\n",
       "    }\n",
       "\n",
       "    .dataframe tbody tr th {\n",
       "        vertical-align: top;\n",
       "    }\n",
       "\n",
       "    .dataframe thead th {\n",
       "        text-align: right;\n",
       "    }\n",
       "</style>\n",
       "<table border=\"1\" class=\"dataframe\">\n",
       "  <thead>\n",
       "    <tr style=\"text-align: right;\">\n",
       "      <th></th>\n",
       "      <th>0</th>\n",
       "    </tr>\n",
       "  </thead>\n",
       "  <tbody>\n",
       "    <tr>\n",
       "      <th>img/word</th>\n",
       "      <td>0.175181</td>\n",
       "    </tr>\n",
       "    <tr>\n",
       "      <th>ct_words</th>\n",
       "      <td>0.173491</td>\n",
       "    </tr>\n",
       "    <tr>\n",
       "      <th>days_passed</th>\n",
       "      <td>0.160584</td>\n",
       "    </tr>\n",
       "    <tr>\n",
       "      <th>title_words</th>\n",
       "      <td>0.116438</td>\n",
       "    </tr>\n",
       "    <tr>\n",
       "      <th>read_time</th>\n",
       "      <td>0.114774</td>\n",
       "    </tr>\n",
       "    <tr>\n",
       "      <th>title_emot_quotient</th>\n",
       "      <td>0.112456</td>\n",
       "    </tr>\n",
       "    <tr>\n",
       "      <th>ct_image</th>\n",
       "      <td>0.099449</td>\n",
       "    </tr>\n",
       "    <tr>\n",
       "      <th>featured_in_tds</th>\n",
       "      <td>0.026477</td>\n",
       "    </tr>\n",
       "    <tr>\n",
       "      <th>ct_tags</th>\n",
       "      <td>0.021152</td>\n",
       "    </tr>\n",
       "  </tbody>\n",
       "</table>\n",
       "</div>"
      ],
      "text/plain": [
       "                            0\n",
       "img/word             0.175181\n",
       "ct_words             0.173491\n",
       "days_passed          0.160584\n",
       "title_words          0.116438\n",
       "read_time            0.114774\n",
       "title_emot_quotient  0.112456\n",
       "ct_image             0.099449\n",
       "featured_in_tds      0.026477\n",
       "ct_tags              0.021152"
      ]
     },
     "execution_count": 184,
     "metadata": {},
     "output_type": "execute_result"
    }
   ],
   "source": [
    "fi = pd.DataFrame(rf.feature_importances_, X_train.columns)\n",
    "fi.sort_values(by = 0, ascending=False)"
   ]
  }
 ],
 "metadata": {
  "kernelspec": {
   "display_name": "Python 3",
   "language": "python",
   "name": "python3"
  },
  "language_info": {
   "codemirror_mode": {
    "name": "ipython",
    "version": 3
   },
   "file_extension": ".py",
   "mimetype": "text/x-python",
   "name": "python",
   "nbconvert_exporter": "python",
   "pygments_lexer": "ipython3",
   "version": "3.6.3"
  }
 },
 "nbformat": 4,
 "nbformat_minor": 2
}
