{
 "cells": [
  {
   "cell_type": "code",
   "execution_count": 50,
   "metadata": {},
   "outputs": [],
   "source": [
    "import pandas as pd\n",
    "import numpy as np\n",
    "from sklearn.linear_model import LogisticRegression\n",
    "from sklearn.model_selection import train_test_split\n",
    "from math import sqrt\n",
    "from sklearn.metrics import log_loss"
   ]
  },
  {
   "cell_type": "code",
   "execution_count": 51,
   "metadata": {},
   "outputs": [
    {
     "data": {
      "text/html": [
       "<div>\n",
       "<style scoped>\n",
       "    .dataframe tbody tr th:only-of-type {\n",
       "        vertical-align: middle;\n",
       "    }\n",
       "\n",
       "    .dataframe tbody tr th {\n",
       "        vertical-align: top;\n",
       "    }\n",
       "\n",
       "    .dataframe thead th {\n",
       "        text-align: right;\n",
       "    }\n",
       "</style>\n",
       "<table border=\"1\" class=\"dataframe\">\n",
       "  <thead>\n",
       "    <tr style=\"text-align: right;\">\n",
       "      <th></th>\n",
       "      <th>title_words</th>\n",
       "      <th>days_passed</th>\n",
       "      <th>ct_image</th>\n",
       "      <th>ct_tags</th>\n",
       "      <th>ct_words</th>\n",
       "      <th>title_emot_quotient</th>\n",
       "      <th>featured_in_tds</th>\n",
       "      <th>read_time</th>\n",
       "      <th>claps</th>\n",
       "      <th>img/word</th>\n",
       "    </tr>\n",
       "  </thead>\n",
       "  <tbody>\n",
       "    <tr>\n",
       "      <th>0</th>\n",
       "      <td>6.0</td>\n",
       "      <td>1.0</td>\n",
       "      <td>8.0</td>\n",
       "      <td>5.0</td>\n",
       "      <td>2493.0</td>\n",
       "      <td>0.000</td>\n",
       "      <td>True</td>\n",
       "      <td>11.0</td>\n",
       "      <td>683.0</td>\n",
       "      <td>0.003209</td>\n",
       "    </tr>\n",
       "    <tr>\n",
       "      <th>1</th>\n",
       "      <td>10.0</td>\n",
       "      <td>1.0</td>\n",
       "      <td>7.0</td>\n",
       "      <td>5.0</td>\n",
       "      <td>2301.0</td>\n",
       "      <td>0.874</td>\n",
       "      <td>True</td>\n",
       "      <td>11.0</td>\n",
       "      <td>696.0</td>\n",
       "      <td>0.003042</td>\n",
       "    </tr>\n",
       "    <tr>\n",
       "      <th>2</th>\n",
       "      <td>5.0</td>\n",
       "      <td>2.0</td>\n",
       "      <td>4.0</td>\n",
       "      <td>5.0</td>\n",
       "      <td>547.0</td>\n",
       "      <td>0.000</td>\n",
       "      <td>True</td>\n",
       "      <td>3.0</td>\n",
       "      <td>496.0</td>\n",
       "      <td>0.007313</td>\n",
       "    </tr>\n",
       "    <tr>\n",
       "      <th>3</th>\n",
       "      <td>8.0</td>\n",
       "      <td>2.0</td>\n",
       "      <td>2.0</td>\n",
       "      <td>5.0</td>\n",
       "      <td>661.0</td>\n",
       "      <td>0.250</td>\n",
       "      <td>True</td>\n",
       "      <td>3.0</td>\n",
       "      <td>2700.0</td>\n",
       "      <td>0.003026</td>\n",
       "    </tr>\n",
       "    <tr>\n",
       "      <th>4</th>\n",
       "      <td>4.0</td>\n",
       "      <td>0.0</td>\n",
       "      <td>5.0</td>\n",
       "      <td>5.0</td>\n",
       "      <td>499.0</td>\n",
       "      <td>0.000</td>\n",
       "      <td>False</td>\n",
       "      <td>3.0</td>\n",
       "      <td>8.0</td>\n",
       "      <td>0.010020</td>\n",
       "    </tr>\n",
       "  </tbody>\n",
       "</table>\n",
       "</div>"
      ],
      "text/plain": [
       "   title_words  days_passed  ct_image  ct_tags  ct_words  title_emot_quotient  \\\n",
       "0          6.0          1.0       8.0      5.0    2493.0                0.000   \n",
       "1         10.0          1.0       7.0      5.0    2301.0                0.874   \n",
       "2          5.0          2.0       4.0      5.0     547.0                0.000   \n",
       "3          8.0          2.0       2.0      5.0     661.0                0.250   \n",
       "4          4.0          0.0       5.0      5.0     499.0                0.000   \n",
       "\n",
       "   featured_in_tds  read_time   claps  img/word  \n",
       "0             True       11.0   683.0  0.003209  \n",
       "1             True       11.0   696.0  0.003042  \n",
       "2             True        3.0   496.0  0.007313  \n",
       "3             True        3.0  2700.0  0.003026  \n",
       "4            False        3.0     8.0  0.010020  "
      ]
     },
     "execution_count": 51,
     "metadata": {},
     "output_type": "execute_result"
    }
   ],
   "source": [
    "data = pd.read_csv('data.csv')\n",
    "data.head()"
   ]
  },
  {
   "cell_type": "code",
   "execution_count": 54,
   "metadata": {},
   "outputs": [
    {
     "data": {
      "text/plain": [
       "0       -19.998000\n",
       "1       441.960000\n",
       "2       881.920000\n",
       "3      1321.880000\n",
       "4      1761.840000\n",
       "5      2201.800000\n",
       "6      2641.760000\n",
       "7      3081.720000\n",
       "8      3521.680000\n",
       "9      3961.640000\n",
       "10     4401.600000\n",
       "11     4841.560000\n",
       "12     5281.520000\n",
       "13     5721.480000\n",
       "14     6161.440000\n",
       "15     6601.400000\n",
       "16     7041.360000\n",
       "17     7481.320000\n",
       "18     7921.280000\n",
       "19     8361.240000\n",
       "20     8801.200000\n",
       "21     9241.160000\n",
       "22     9681.120000\n",
       "23    10121.080000\n",
       "24    10561.040000\n",
       "25    11001.000000\n",
       "26    11440.960000\n",
       "27    11880.920000\n",
       "28    12320.880000\n",
       "29    12760.840000\n",
       "30    13200.800000\n",
       "31    13640.760000\n",
       "32    14080.720000\n",
       "33    14520.680000\n",
       "34    14960.640000\n",
       "35    15400.600000\n",
       "36    15840.560000\n",
       "37    16280.520000\n",
       "38    16720.480000\n",
       "39    17160.440000\n",
       "40    17600.400000\n",
       "41    18040.360000\n",
       "42    18480.320000\n",
       "43    18920.280000\n",
       "44    19360.240000\n",
       "45    19800.200000\n",
       "46    20240.160000\n",
       "47    20680.120000\n",
       "48    21120.080000\n",
       "49    21560.040000\n",
       "50    22000.000000\n",
       "dtype: object"
      ]
     },
     "execution_count": 54,
     "metadata": {},
     "output_type": "execute_result"
    }
   ],
   "source": [
    "claps=pd.Series(data['claps'])\n",
    "n_buckets = 50\n",
    "buckets, bins = pd.cut(claps, n_buckets, labels=False, retbins=True, precision=4) \n",
    "bins = pd.Series(bins).apply(lambda x: format(x, 'f'))\n",
    "bins"
   ]
  },
  {
   "cell_type": "code",
   "execution_count": 55,
   "metadata": {},
   "outputs": [
    {
     "data": {
      "text/html": [
       "<div>\n",
       "<style scoped>\n",
       "    .dataframe tbody tr th:only-of-type {\n",
       "        vertical-align: middle;\n",
       "    }\n",
       "\n",
       "    .dataframe tbody tr th {\n",
       "        vertical-align: top;\n",
       "    }\n",
       "\n",
       "    .dataframe thead th {\n",
       "        text-align: right;\n",
       "    }\n",
       "</style>\n",
       "<table border=\"1\" class=\"dataframe\">\n",
       "  <thead>\n",
       "    <tr style=\"text-align: right;\">\n",
       "      <th></th>\n",
       "      <th>title_words</th>\n",
       "      <th>days_passed</th>\n",
       "      <th>ct_image</th>\n",
       "      <th>ct_tags</th>\n",
       "      <th>ct_words</th>\n",
       "      <th>title_emot_quotient</th>\n",
       "      <th>featured_in_tds</th>\n",
       "      <th>read_time</th>\n",
       "      <th>claps</th>\n",
       "      <th>img/word</th>\n",
       "      <th>new_claps</th>\n",
       "    </tr>\n",
       "  </thead>\n",
       "  <tbody>\n",
       "    <tr>\n",
       "      <th>0</th>\n",
       "      <td>6.0</td>\n",
       "      <td>1.0</td>\n",
       "      <td>8.0</td>\n",
       "      <td>5.0</td>\n",
       "      <td>2493.0</td>\n",
       "      <td>0.000</td>\n",
       "      <td>True</td>\n",
       "      <td>11.0</td>\n",
       "      <td>683.0</td>\n",
       "      <td>0.003209</td>\n",
       "      <td>1</td>\n",
       "    </tr>\n",
       "    <tr>\n",
       "      <th>1</th>\n",
       "      <td>10.0</td>\n",
       "      <td>1.0</td>\n",
       "      <td>7.0</td>\n",
       "      <td>5.0</td>\n",
       "      <td>2301.0</td>\n",
       "      <td>0.874</td>\n",
       "      <td>True</td>\n",
       "      <td>11.0</td>\n",
       "      <td>696.0</td>\n",
       "      <td>0.003042</td>\n",
       "      <td>1</td>\n",
       "    </tr>\n",
       "    <tr>\n",
       "      <th>2</th>\n",
       "      <td>5.0</td>\n",
       "      <td>2.0</td>\n",
       "      <td>4.0</td>\n",
       "      <td>5.0</td>\n",
       "      <td>547.0</td>\n",
       "      <td>0.000</td>\n",
       "      <td>True</td>\n",
       "      <td>3.0</td>\n",
       "      <td>496.0</td>\n",
       "      <td>0.007313</td>\n",
       "      <td>1</td>\n",
       "    </tr>\n",
       "    <tr>\n",
       "      <th>3</th>\n",
       "      <td>8.0</td>\n",
       "      <td>2.0</td>\n",
       "      <td>2.0</td>\n",
       "      <td>5.0</td>\n",
       "      <td>661.0</td>\n",
       "      <td>0.250</td>\n",
       "      <td>True</td>\n",
       "      <td>3.0</td>\n",
       "      <td>2700.0</td>\n",
       "      <td>0.003026</td>\n",
       "      <td>6</td>\n",
       "    </tr>\n",
       "    <tr>\n",
       "      <th>4</th>\n",
       "      <td>4.0</td>\n",
       "      <td>0.0</td>\n",
       "      <td>5.0</td>\n",
       "      <td>5.0</td>\n",
       "      <td>499.0</td>\n",
       "      <td>0.000</td>\n",
       "      <td>False</td>\n",
       "      <td>3.0</td>\n",
       "      <td>8.0</td>\n",
       "      <td>0.010020</td>\n",
       "      <td>0</td>\n",
       "    </tr>\n",
       "  </tbody>\n",
       "</table>\n",
       "</div>"
      ],
      "text/plain": [
       "   title_words  days_passed  ct_image  ct_tags  ct_words  title_emot_quotient  \\\n",
       "0          6.0          1.0       8.0      5.0    2493.0                0.000   \n",
       "1         10.0          1.0       7.0      5.0    2301.0                0.874   \n",
       "2          5.0          2.0       4.0      5.0     547.0                0.000   \n",
       "3          8.0          2.0       2.0      5.0     661.0                0.250   \n",
       "4          4.0          0.0       5.0      5.0     499.0                0.000   \n",
       "\n",
       "   featured_in_tds  read_time   claps  img/word  new_claps  \n",
       "0             True       11.0   683.0  0.003209          1  \n",
       "1             True       11.0   696.0  0.003042          1  \n",
       "2             True        3.0   496.0  0.007313          1  \n",
       "3             True        3.0  2700.0  0.003026          6  \n",
       "4            False        3.0     8.0  0.010020          0  "
      ]
     },
     "execution_count": 55,
     "metadata": {},
     "output_type": "execute_result"
    }
   ],
   "source": [
    "data['new_claps'] = buckets\n",
    "#data['new_claps'] = data.claps.rank(method='dense').astype(int)\n",
    "data.head()"
   ]
  },
  {
   "cell_type": "code",
   "execution_count": 56,
   "metadata": {},
   "outputs": [],
   "source": [
    "y = data['new_claps']\n",
    "X = data.drop(['claps', 'new_claps'], axis = 1)"
   ]
  },
  {
   "cell_type": "code",
   "execution_count": 57,
   "metadata": {},
   "outputs": [],
   "source": [
    "X_train, X_val, y_train, y_val = train_test_split(X, y, test_size=0.20, random_state=10)"
   ]
  },
  {
   "cell_type": "code",
   "execution_count": 66,
   "metadata": {},
   "outputs": [],
   "source": [
    "log_reg = LogisticRegression(class_weight='balanced')"
   ]
  },
  {
   "cell_type": "code",
   "execution_count": 67,
   "metadata": {},
   "outputs": [
    {
     "data": {
      "text/plain": [
       "LogisticRegression(C=1.0, class_weight='balanced', dual=False,\n",
       "          fit_intercept=True, intercept_scaling=1, max_iter=100,\n",
       "          multi_class='ovr', n_jobs=1, penalty='l2', random_state=None,\n",
       "          solver='liblinear', tol=0.0001, verbose=0, warm_start=False)"
      ]
     },
     "execution_count": 67,
     "metadata": {},
     "output_type": "execute_result"
    }
   ],
   "source": [
    "log_reg.fit(X_train, y_train)"
   ]
  },
  {
   "cell_type": "code",
   "execution_count": 70,
   "metadata": {},
   "outputs": [
    {
     "name": "stderr",
     "output_type": "stream",
     "text": [
      "/Users/neerjadoshi/anaconda2/envs/fastai/lib/python3.6/site-packages/sklearn/linear_model/base.py:340: RuntimeWarning: overflow encountered in exp\n",
      "  np.exp(prob, prob)\n"
     ]
    }
   ],
   "source": [
    "val_pred_prob = log_reg.predict_proba(X_val)\n"
   ]
  },
  {
   "cell_type": "code",
   "execution_count": 69,
   "metadata": {},
   "outputs": [
    {
     "data": {
      "text/plain": [
       "2.1875873655151672"
      ]
     },
     "execution_count": 69,
     "metadata": {},
     "output_type": "execute_result"
    }
   ],
   "source": [
    "log_loss(y_val, val_pred, labels=log_reg.classes_)"
   ]
  },
  {
   "cell_type": "code",
   "execution_count": 71,
   "metadata": {},
   "outputs": [],
   "source": [
    "val_pred = log_reg.predict(X_val)"
   ]
  },
  {
   "cell_type": "code",
   "execution_count": 76,
   "metadata": {},
   "outputs": [
    {
     "data": {
      "text/plain": [
       "array([ 9,  0, 10, 33, 10,  0,  8,  3, 14,  0,  1,  0,  0,  0, 15, 29, 15,\n",
       "        0, 10,  0,  0,  8, 16,  1, 15, 15, 49, 10, 13,  6, 10,  0, 13,  0,\n",
       "        8, 49,  0,  0,  1,  6,  0,  3,  0,  0,  0, 10,  0,  6,  0,  0,  6,\n",
       "        0, 15, 15, 16,  9,  0, 13, 15, 11,  0,  0,  0,  0,  0,  7, 49, 49,\n",
       "        0, 15,  0,  9,  8, 15, 10,  0,  0, 11, 29,  6,  0,  0,  6,  0,  0,\n",
       "       10,  0, 16,  0,  0, 11,  6,  0, 10,  0, 11,  0,  0,  0,  0,  0,  0,\n",
       "       49,  9,  0,  0,  3,  0,  0,  0,  0,  0,  0, 13, 49,  5,  0,  0,  0,\n",
       "        6, 16,  0,  0,  0,  0, 13,  0])"
      ]
     },
     "execution_count": 76,
     "metadata": {},
     "output_type": "execute_result"
    }
   ],
   "source": [
    "val_pred"
   ]
  },
  {
   "cell_type": "code",
   "execution_count": null,
   "metadata": {},
   "outputs": [],
   "source": []
  }
 ],
 "metadata": {
  "kernelspec": {
   "display_name": "Python 3",
   "language": "python",
   "name": "python3"
  },
  "language_info": {
   "codemirror_mode": {
    "name": "ipython",
    "version": 3
   },
   "file_extension": ".py",
   "mimetype": "text/x-python",
   "name": "python",
   "nbconvert_exporter": "python",
   "pygments_lexer": "ipython3",
   "version": "3.6.3"
  }
 },
 "nbformat": 4,
 "nbformat_minor": 2
}
