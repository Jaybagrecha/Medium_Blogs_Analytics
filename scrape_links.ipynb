{
 "cells": [
  {
   "cell_type": "code",
   "execution_count": 1,
   "metadata": {
    "collapsed": true
   },
   "outputs": [],
   "source": [
    "import time\n",
    "import os\n",
    "from bs4 import BeautifulSoup\n",
    "import requests\n",
    "from selenium import webdriver\n",
    "from selenium.webdriver.common.keys import Keys\n",
    "import pandas as pd\n",
    "browser = webdriver.Chrome()\n",
    "url = [\"https://medium.com/topic/data-science\", \"https://medium.com/topic/artificial-intelligence\",\n",
    "       \"https://medium.com/topic/technology\", \"https://medium.com/topic/programming\"]\n",
    "browser.get(\"https://medium.com/topic/data-science\")\n",
    "time.sleep(1)\n",
    "import ast\n",
    "from datetime import datetime\n",
    "from nltk.sentiment.vader import SentimentIntensityAnalyzer\n",
    "sid = SentimentIntensityAnalyzer()"
   ]
  },
  {
   "cell_type": "markdown",
   "metadata": {},
   "source": [
    "### Fetch all links on that page and filter them out"
   ]
  },
  {
   "cell_type": "code",
   "execution_count": 2,
   "metadata": {
    "collapsed": true
   },
   "outputs": [],
   "source": [
    "# import pickle\n",
    "# with open('links.pkl', 'r') as f:\n",
    "#     all_posts = pickle.load(f)"
   ]
  },
  {
   "cell_type": "markdown",
   "metadata": {},
   "source": [
    "### Iterate over every link and fetch relevant data"
   ]
  },
  {
   "cell_type": "code",
   "execution_count": 16,
   "metadata": {},
   "outputs": [
    {
     "data": {
      "text/plain": [
       "(4824, 11)"
      ]
     },
     "execution_count": 16,
     "metadata": {},
     "output_type": "execute_result"
    }
   ],
   "source": [
    "data_scrapped = pd.read_csv(\"data_scraped.csv\")\n",
    "del data_scrapped['index']\n",
    "data_scrapped.shape"
   ]
  },
  {
   "cell_type": "code",
   "execution_count": 17,
   "metadata": {
    "collapsed": true
   },
   "outputs": [],
   "source": [
    "data_scrapped['datePublished'] = data_scrapped['datePublished'].apply(lambda x:datetime.strptime(x,'%Y-%m-%d'))"
   ]
  },
  {
   "cell_type": "code",
   "execution_count": 27,
   "metadata": {},
   "outputs": [
    {
     "data": {
      "text/plain": [
       "(4712, 11)"
      ]
     },
     "execution_count": 27,
     "metadata": {},
     "output_type": "execute_result"
    }
   ],
   "source": [
    "data_scrapped.drop_duplicates().shape"
   ]
  },
  {
   "cell_type": "code",
   "execution_count": 21,
   "metadata": {},
   "outputs": [
    {
     "data": {
      "text/html": [
       "<div>\n",
       "<style>\n",
       "    .dataframe thead tr:only-child th {\n",
       "        text-align: right;\n",
       "    }\n",
       "\n",
       "    .dataframe thead th {\n",
       "        text-align: left;\n",
       "    }\n",
       "\n",
       "    .dataframe tbody tr th {\n",
       "        vertical-align: top;\n",
       "    }\n",
       "</style>\n",
       "<table border=\"1\" class=\"dataframe\">\n",
       "  <thead>\n",
       "    <tr style=\"text-align: right;\">\n",
       "      <th></th>\n",
       "      <th>title</th>\n",
       "      <th>claps</th>\n",
       "      <th>datePublished</th>\n",
       "      <th>read_time</th>\n",
       "      <th>followedBy</th>\n",
       "      <th>following</th>\n",
       "      <th>para</th>\n",
       "      <th>tags</th>\n",
       "      <th>bullets</th>\n",
       "      <th>images</th>\n",
       "      <th>links</th>\n",
       "    </tr>\n",
       "  </thead>\n",
       "  <tbody>\n",
       "    <tr>\n",
       "      <th>0</th>\n",
       "      <td>Python is the Perfect Tool for any Problem</td>\n",
       "      <td>6.4K</td>\n",
       "      <td>2018-02-04</td>\n",
       "      <td>3</td>\n",
       "      <td>1497</td>\n",
       "      <td>84</td>\n",
       "      <td>[Reflecting on my first Python program, Reflec...</td>\n",
       "      <td>[Python, Programming, Education, Data Science,...</td>\n",
       "      <td>[The best way to learn a new skill is to find ...</td>\n",
       "      <td>[&lt;img class=\"graf-image\" data-action=\"zoom\" da...</td>\n",
       "      <td>[https://automatetheboringstuff.com/, https://...</td>\n",
       "    </tr>\n",
       "    <tr>\n",
       "      <th>1</th>\n",
       "      <td>Computer Science VS Software Engineering — Which</td>\n",
       "      <td>2.1K</td>\n",
       "      <td>2018-02-06</td>\n",
       "      <td>7</td>\n",
       "      <td>1651</td>\n",
       "      <td>62</td>\n",
       "      <td>[Hey everyone! My name is YK, and I’m currentl...</td>\n",
       "      <td>[Programming, Tech, Careers, Startup, Self Imp...</td>\n",
       "      <td>[Computer Science is the study of how computer...</td>\n",
       "      <td>[&lt;img class=\"graf-image\" data-action=\"zoom\" da...</td>\n",
       "      <td>[https://www.youtube.com/csdojo, https://mediu...</td>\n",
       "    </tr>\n",
       "    <tr>\n",
       "      <th>2</th>\n",
       "      <td>It’s a no-brainer! Deep learn</td>\n",
       "      <td>4K</td>\n",
       "      <td>2018-02-05</td>\n",
       "      <td>12</td>\n",
       "      <td>180</td>\n",
       "      <td>139</td>\n",
       "      <td>[Written by Atli Kosson and Henrik Marklund, F...</td>\n",
       "      <td>[Machine Learning, Deep Learning, Healthcare, ...</td>\n",
       "      <td>[The segmentation problem, The data from MR sc...</td>\n",
       "      <td>[&lt;img class=\"graf-image\" data-action=\"zoom\" da...</td>\n",
       "      <td>[http://cs231n.stanford.edu/, https://arxiv.or...</td>\n",
       "    </tr>\n",
       "  </tbody>\n",
       "</table>\n",
       "</div>"
      ],
      "text/plain": [
       "                                              title claps datePublished  \\\n",
       "0        Python is the Perfect Tool for any Problem  6.4K    2018-02-04   \n",
       "1  Computer Science VS Software Engineering — Which  2.1K    2018-02-06   \n",
       "2                     It’s a no-brainer! Deep learn    4K    2018-02-05   \n",
       "\n",
       "   read_time  followedBy  following  \\\n",
       "0          3        1497         84   \n",
       "1          7        1651         62   \n",
       "2         12         180        139   \n",
       "\n",
       "                                                para  \\\n",
       "0  [Reflecting on my first Python program, Reflec...   \n",
       "1  [Hey everyone! My name is YK, and I’m currentl...   \n",
       "2  [Written by Atli Kosson and Henrik Marklund, F...   \n",
       "\n",
       "                                                tags  \\\n",
       "0  [Python, Programming, Education, Data Science,...   \n",
       "1  [Programming, Tech, Careers, Startup, Self Imp...   \n",
       "2  [Machine Learning, Deep Learning, Healthcare, ...   \n",
       "\n",
       "                                             bullets  \\\n",
       "0  [The best way to learn a new skill is to find ...   \n",
       "1  [Computer Science is the study of how computer...   \n",
       "2  [The segmentation problem, The data from MR sc...   \n",
       "\n",
       "                                              images  \\\n",
       "0  [<img class=\"graf-image\" data-action=\"zoom\" da...   \n",
       "1  [<img class=\"graf-image\" data-action=\"zoom\" da...   \n",
       "2  [<img class=\"graf-image\" data-action=\"zoom\" da...   \n",
       "\n",
       "                                               links  \n",
       "0  [https://automatetheboringstuff.com/, https://...  \n",
       "1  [https://www.youtube.com/csdojo, https://mediu...  \n",
       "2  [http://cs231n.stanford.edu/, https://arxiv.or...  "
      ]
     },
     "execution_count": 21,
     "metadata": {},
     "output_type": "execute_result"
    }
   ],
   "source": [
    "data_scraped.head(3)"
   ]
  },
  {
   "cell_type": "code",
   "execution_count": 23,
   "metadata": {},
   "outputs": [],
   "source": [
    "data = pd.DataFrame()\n",
    "for i in range(data_scrapped.shape[0]):\n",
    "    \n",
    "    data.loc[i, \"title_words\"] = len(data_scrapped.loc[i, \"title\"].split(\" \"))\n",
    "    data.loc[i, \"days_passed\"] = (datetime.now() - data_scrapped.loc[i,'datePublished'] ).days\n",
    "    data.loc[i, \"ct_image\"] = len(data_scrapped.loc[i, \"images\"])\n",
    "    data.loc[i, \"ct_tags\"] = len(data_scrapped.loc[i, \"tags\"])\n",
    "    data.loc[i, \"text\"] =  \"\".join(data_scrapped.loc[i, \"para\"] + data_scrapped.loc[i, \"bullets\"])\n",
    "    data.loc[i, \"ct_words\"] = len(data.loc[i, \"text\"].split())\n",
    "    data.loc[i, \"title_emot_quotient\"] = abs(sid.polarity_scores(data_scrapped.loc[i, \"title\"])['compound'])\n",
    "    data.loc[i, \"featured_in_tds\"] = 'Towards Data Science' in data_scrapped.loc[i,'tags']\n",
    "    data.loc[i,'read_time'] = int(data_scrapped.loc[i,'read_time']) \n",
    "    data.loc[i,'links'] =  data_scrapped.loc[i,'links']\n",
    "    data.loc[i,'following'] = int(data_scrapped.loc[i,'following']) \n",
    "    data.loc[i,'followedBy'] = int(data_scrapped.loc[i,'followedBy'])\n",
    "\n",
    "    \n",
    "def claps2num(x):\n",
    "    if \"K\" in x:\n",
    "        return float(x.replace(\"K\",\"\"))*1000\n",
    "    else:\n",
    "        return int(x)\n",
    "data['claps'] = data_scrapped['claps'].apply(lambda x: claps2num(x))\n",
    "data[\"img/word\"] = data['ct_image']/data['ct_words']"
   ]
  },
  {
   "cell_type": "code",
   "execution_count": 24,
   "metadata": {},
   "outputs": [
    {
     "data": {
      "text/plain": [
       "(4824, 14)"
      ]
     },
     "execution_count": 24,
     "metadata": {},
     "output_type": "execute_result"
    }
   ],
   "source": [
    "data.shape"
   ]
  },
  {
   "cell_type": "code",
   "execution_count": 25,
   "metadata": {},
   "outputs": [
    {
     "data": {
      "text/html": [
       "<div>\n",
       "<style>\n",
       "    .dataframe thead tr:only-child th {\n",
       "        text-align: right;\n",
       "    }\n",
       "\n",
       "    .dataframe thead th {\n",
       "        text-align: left;\n",
       "    }\n",
       "\n",
       "    .dataframe tbody tr th {\n",
       "        vertical-align: top;\n",
       "    }\n",
       "</style>\n",
       "<table border=\"1\" class=\"dataframe\">\n",
       "  <thead>\n",
       "    <tr style=\"text-align: right;\">\n",
       "      <th></th>\n",
       "      <th>title_words</th>\n",
       "      <th>days_passed</th>\n",
       "      <th>ct_image</th>\n",
       "      <th>ct_tags</th>\n",
       "      <th>text</th>\n",
       "      <th>ct_words</th>\n",
       "      <th>title_emot_quotient</th>\n",
       "      <th>featured_in_tds</th>\n",
       "      <th>read_time</th>\n",
       "      <th>links</th>\n",
       "      <th>following</th>\n",
       "      <th>followedBy</th>\n",
       "      <th>claps</th>\n",
       "      <th>img/word</th>\n",
       "    </tr>\n",
       "  </thead>\n",
       "  <tbody>\n",
       "    <tr>\n",
       "      <th>0</th>\n",
       "      <td>8.0</td>\n",
       "      <td>5.0</td>\n",
       "      <td>475.0</td>\n",
       "      <td>68.0</td>\n",
       "      <td>[Reflecting on my first Python program, Reflec...</td>\n",
       "      <td>658.0</td>\n",
       "      <td>0.25</td>\n",
       "      <td>True</td>\n",
       "      <td>3.0</td>\n",
       "      <td>[https://automatetheboringstuff.com/, https://...</td>\n",
       "      <td>84.0</td>\n",
       "      <td>1497.0</td>\n",
       "      <td>6400.0</td>\n",
       "      <td>0.721884</td>\n",
       "    </tr>\n",
       "    <tr>\n",
       "      <th>1</th>\n",
       "      <td>7.0</td>\n",
       "      <td>3.0</td>\n",
       "      <td>255.0</td>\n",
       "      <td>55.0</td>\n",
       "      <td>[Hey everyone! My name is YK, and I’m currentl...</td>\n",
       "      <td>1481.0</td>\n",
       "      <td>0.00</td>\n",
       "      <td>False</td>\n",
       "      <td>7.0</td>\n",
       "      <td>[https://www.youtube.com/csdojo, https://mediu...</td>\n",
       "      <td>62.0</td>\n",
       "      <td>1651.0</td>\n",
       "      <td>2100.0</td>\n",
       "      <td>0.172181</td>\n",
       "    </tr>\n",
       "    <tr>\n",
       "      <th>2</th>\n",
       "      <td>5.0</td>\n",
       "      <td>4.0</td>\n",
       "      <td>3666.0</td>\n",
       "      <td>66.0</td>\n",
       "      <td>[Written by Atli Kosson and Henrik Marklund, F...</td>\n",
       "      <td>2673.0</td>\n",
       "      <td>0.00</td>\n",
       "      <td>False</td>\n",
       "      <td>12.0</td>\n",
       "      <td>[http://cs231n.stanford.edu/, https://arxiv.or...</td>\n",
       "      <td>139.0</td>\n",
       "      <td>180.0</td>\n",
       "      <td>4000.0</td>\n",
       "      <td>1.371493</td>\n",
       "    </tr>\n",
       "  </tbody>\n",
       "</table>\n",
       "</div>"
      ],
      "text/plain": [
       "   title_words  days_passed  ct_image  ct_tags  \\\n",
       "0          8.0          5.0     475.0     68.0   \n",
       "1          7.0          3.0     255.0     55.0   \n",
       "2          5.0          4.0    3666.0     66.0   \n",
       "\n",
       "                                                text  ct_words  \\\n",
       "0  [Reflecting on my first Python program, Reflec...     658.0   \n",
       "1  [Hey everyone! My name is YK, and I’m currentl...    1481.0   \n",
       "2  [Written by Atli Kosson and Henrik Marklund, F...    2673.0   \n",
       "\n",
       "   title_emot_quotient featured_in_tds  read_time  \\\n",
       "0                 0.25            True        3.0   \n",
       "1                 0.00           False        7.0   \n",
       "2                 0.00           False       12.0   \n",
       "\n",
       "                                               links  following  followedBy  \\\n",
       "0  [https://automatetheboringstuff.com/, https://...       84.0      1497.0   \n",
       "1  [https://www.youtube.com/csdojo, https://mediu...       62.0      1651.0   \n",
       "2  [http://cs231n.stanford.edu/, https://arxiv.or...      139.0       180.0   \n",
       "\n",
       "    claps  img/word  \n",
       "0  6400.0  0.721884  \n",
       "1  2100.0  0.172181  \n",
       "2  4000.0  1.371493  "
      ]
     },
     "execution_count": 25,
     "metadata": {},
     "output_type": "execute_result"
    }
   ],
   "source": [
    "data.head(3)"
   ]
  },
  {
   "cell_type": "code",
   "execution_count": 26,
   "metadata": {},
   "outputs": [
    {
     "data": {
      "text/plain": [
       "(4712, 14)"
      ]
     },
     "execution_count": 26,
     "metadata": {},
     "output_type": "execute_result"
    }
   ],
   "source": [
    "data.drop_duplicates().shape"
   ]
  },
  {
   "cell_type": "code",
   "execution_count": 132,
   "metadata": {
    "collapsed": true
   },
   "outputs": [],
   "source": [
    "data.to_csv(\"data.csv\",index=False, encoding='utf-8')"
   ]
  },
  {
   "cell_type": "code",
   "execution_count": 131,
   "metadata": {},
   "outputs": [
    {
     "data": {
      "text/html": [
       "<div>\n",
       "<style>\n",
       "    .dataframe thead tr:only-child th {\n",
       "        text-align: right;\n",
       "    }\n",
       "\n",
       "    .dataframe thead th {\n",
       "        text-align: left;\n",
       "    }\n",
       "\n",
       "    .dataframe tbody tr th {\n",
       "        vertical-align: top;\n",
       "    }\n",
       "</style>\n",
       "<table border=\"1\" class=\"dataframe\">\n",
       "  <thead>\n",
       "    <tr style=\"text-align: right;\">\n",
       "      <th></th>\n",
       "      <th>title</th>\n",
       "      <th>claps</th>\n",
       "      <th>datePublished</th>\n",
       "      <th>read_time</th>\n",
       "      <th>para</th>\n",
       "      <th>tags</th>\n",
       "      <th>bullets</th>\n",
       "      <th>images</th>\n",
       "    </tr>\n",
       "  </thead>\n",
       "  <tbody>\n",
       "    <tr>\n",
       "      <th>0</th>\n",
       "      <td>Python is the Perfect Tool for any Problem</td>\n",
       "      <td>6.3K</td>\n",
       "      <td>2018-02-04</td>\n",
       "      <td>3</td>\n",
       "      <td>[Reflecting on my first Python program, Reflec...</td>\n",
       "      <td>[Python, Programming, Education, Data Science,...</td>\n",
       "      <td>[The best way to learn a new skill is to find ...</td>\n",
       "      <td>[&lt;img class=\"graf-image\" data-action=\"zoom\" da...</td>\n",
       "    </tr>\n",
       "    <tr>\n",
       "      <th>1</th>\n",
       "      <td>Computer Science VS Software Engineering — Which</td>\n",
       "      <td>2K</td>\n",
       "      <td>2018-02-06</td>\n",
       "      <td>7</td>\n",
       "      <td>[Hey everyone! My name is YK, and I’m currentl...</td>\n",
       "      <td>[Programming, Tech, Careers, Startup, Self Imp...</td>\n",
       "      <td>[Computer Science is the study of how computer...</td>\n",
       "      <td>[&lt;img class=\"graf-image\" data-action=\"zoom\" da...</td>\n",
       "    </tr>\n",
       "    <tr>\n",
       "      <th>2</th>\n",
       "      <td>It’s a no-brainer! Deep learn</td>\n",
       "      <td>3.9K</td>\n",
       "      <td>2018-02-05</td>\n",
       "      <td>12</td>\n",
       "      <td>[Written by Atli Kosson and Henrik Marklund, F...</td>\n",
       "      <td>[Machine Learning, Deep Learning, Healthcare, ...</td>\n",
       "      <td>[The segmentation problem, The data from MR sc...</td>\n",
       "      <td>[&lt;img class=\"graf-image\" data-action=\"zoom\" da...</td>\n",
       "    </tr>\n",
       "    <tr>\n",
       "      <th>3</th>\n",
       "      <td>The 5 Clustering Algorithms Data</td>\n",
       "      <td>1.8K</td>\n",
       "      <td>2018-02-05</td>\n",
       "      <td>11</td>\n",
       "      <td>[Clustering is a Machine Learning technique th...</td>\n",
       "      <td>[Machine Learning, Clustering, Data Science, A...</td>\n",
       "      <td>[To begin, we first select a number of classes...</td>\n",
       "      <td>[&lt;img class=\"graf-image\" data-height=\"480\" dat...</td>\n",
       "    </tr>\n",
       "    <tr>\n",
       "      <th>4</th>\n",
       "      <td>Building Prediction APIs in Python (Part 2</td>\n",
       "      <td>53</td>\n",
       "      <td>2018-02-04</td>\n",
       "      <td>10</td>\n",
       "      <td>[In the initial series post, we created a simp...</td>\n",
       "      <td>[Machine Learning, Python, API, Scikit Learn]</td>\n",
       "      <td>[Online Advertising: Suppose we’ve built a mod...</td>\n",
       "      <td>[&lt;img class=\"graf-image\" data-height=\"426\" dat...</td>\n",
       "    </tr>\n",
       "  </tbody>\n",
       "</table>\n",
       "</div>"
      ],
      "text/plain": [
       "                                              title claps datePublished  \\\n",
       "0        Python is the Perfect Tool for any Problem  6.3K    2018-02-04   \n",
       "1  Computer Science VS Software Engineering — Which    2K    2018-02-06   \n",
       "2                     It’s a no-brainer! Deep learn  3.9K    2018-02-05   \n",
       "3                 The 5 Clustering Algorithms Data   1.8K    2018-02-05   \n",
       "4        Building Prediction APIs in Python (Part 2    53    2018-02-04   \n",
       "\n",
       "  read_time                                               para  \\\n",
       "0         3  [Reflecting on my first Python program, Reflec...   \n",
       "1         7  [Hey everyone! My name is YK, and I’m currentl...   \n",
       "2        12  [Written by Atli Kosson and Henrik Marklund, F...   \n",
       "3        11  [Clustering is a Machine Learning technique th...   \n",
       "4        10  [In the initial series post, we created a simp...   \n",
       "\n",
       "                                                tags  \\\n",
       "0  [Python, Programming, Education, Data Science,...   \n",
       "1  [Programming, Tech, Careers, Startup, Self Imp...   \n",
       "2  [Machine Learning, Deep Learning, Healthcare, ...   \n",
       "3  [Machine Learning, Clustering, Data Science, A...   \n",
       "4      [Machine Learning, Python, API, Scikit Learn]   \n",
       "\n",
       "                                             bullets  \\\n",
       "0  [The best way to learn a new skill is to find ...   \n",
       "1  [Computer Science is the study of how computer...   \n",
       "2  [The segmentation problem, The data from MR sc...   \n",
       "3  [To begin, we first select a number of classes...   \n",
       "4  [Online Advertising: Suppose we’ve built a mod...   \n",
       "\n",
       "                                              images  \n",
       "0  [<img class=\"graf-image\" data-action=\"zoom\" da...  \n",
       "1  [<img class=\"graf-image\" data-action=\"zoom\" da...  \n",
       "2  [<img class=\"graf-image\" data-action=\"zoom\" da...  \n",
       "3  [<img class=\"graf-image\" data-height=\"480\" dat...  \n",
       "4  [<img class=\"graf-image\" data-height=\"426\" dat...  "
      ]
     },
     "execution_count": 131,
     "metadata": {},
     "output_type": "execute_result"
    }
   ],
   "source": [
    "data_scrapped.head()"
   ]
  },
  {
   "cell_type": "code",
   "execution_count": null,
   "metadata": {
    "collapsed": true
   },
   "outputs": [],
   "source": []
  },
  {
   "cell_type": "code",
   "execution_count": null,
   "metadata": {
    "collapsed": true
   },
   "outputs": [],
   "source": []
  },
  {
   "cell_type": "code",
   "execution_count": null,
   "metadata": {
    "collapsed": true
   },
   "outputs": [],
   "source": []
  },
  {
   "cell_type": "code",
   "execution_count": null,
   "metadata": {
    "collapsed": true
   },
   "outputs": [],
   "source": []
  },
  {
   "cell_type": "code",
   "execution_count": null,
   "metadata": {
    "collapsed": true
   },
   "outputs": [],
   "source": []
  },
  {
   "cell_type": "code",
   "execution_count": null,
   "metadata": {
    "collapsed": true
   },
   "outputs": [],
   "source": []
  },
  {
   "cell_type": "code",
   "execution_count": null,
   "metadata": {
    "collapsed": true
   },
   "outputs": [],
   "source": []
  },
  {
   "cell_type": "code",
   "execution_count": null,
   "metadata": {
    "collapsed": true
   },
   "outputs": [],
   "source": []
  },
  {
   "cell_type": "code",
   "execution_count": null,
   "metadata": {
    "collapsed": true
   },
   "outputs": [],
   "source": []
  },
  {
   "cell_type": "code",
   "execution_count": null,
   "metadata": {
    "collapsed": true
   },
   "outputs": [],
   "source": []
  },
  {
   "cell_type": "code",
   "execution_count": null,
   "metadata": {
    "collapsed": true
   },
   "outputs": [],
   "source": []
  },
  {
   "cell_type": "code",
   "execution_count": null,
   "metadata": {
    "collapsed": true
   },
   "outputs": [],
   "source": []
  },
  {
   "cell_type": "code",
   "execution_count": null,
   "metadata": {
    "collapsed": true
   },
   "outputs": [],
   "source": []
  },
  {
   "cell_type": "code",
   "execution_count": null,
   "metadata": {
    "collapsed": true
   },
   "outputs": [],
   "source": []
  },
  {
   "cell_type": "code",
   "execution_count": null,
   "metadata": {
    "collapsed": true
   },
   "outputs": [],
   "source": []
  },
  {
   "cell_type": "code",
   "execution_count": null,
   "metadata": {
    "collapsed": true
   },
   "outputs": [],
   "source": []
  },
  {
   "cell_type": "code",
   "execution_count": null,
   "metadata": {
    "collapsed": true
   },
   "outputs": [],
   "source": []
  },
  {
   "cell_type": "code",
   "execution_count": 21,
   "metadata": {
    "collapsed": true
   },
   "outputs": [],
   "source": [
    "r  = requests.get(\"https://medium.com/@neerja.doshi/augmentation-for-image-classification-24ffcbc38833\")\n",
    "data = r.text\n",
    "soup = BeautifulSoup(data, 'html.parser')"
   ]
  },
  {
   "cell_type": "code",
   "execution_count": null,
   "metadata": {
    "collapsed": true
   },
   "outputs": [],
   "source": [
    "print soup.prettify()"
   ]
  },
  {
   "cell_type": "code",
   "execution_count": 32,
   "metadata": {},
   "outputs": [
    {
     "data": {
      "text/plain": [
       "u'14'"
      ]
     },
     "execution_count": 32,
     "metadata": {},
     "output_type": "execute_result"
    }
   ],
   "source": [
    "soup.find_all(\"script\")[-1].text.split('\"usersFollowedCount\":')[1].split(\",\")[0]"
   ]
  },
  {
   "cell_type": "code",
   "execution_count": 43,
   "metadata": {},
   "outputs": [
    {
     "data": {
      "text/plain": [
       "u'https://github.com/fastai/fastai.git'"
      ]
     },
     "execution_count": 43,
     "metadata": {},
     "output_type": "execute_result"
    }
   ],
   "source": [
    "soup.find_all('a', class_ = \"markup--anchor markup--p-anchor\")[1]['href']"
   ]
  },
  {
   "cell_type": "code",
   "execution_count": 4,
   "metadata": {
    "collapsed": true
   },
   "outputs": [],
   "source": [
    "# import pickle\n",
    "# with open('links.pkl', 'wb') as f:\n",
    "#     pickle.dump(all_posts, f,protocol=2)"
   ]
  },
  {
   "cell_type": "code",
   "execution_count": null,
   "metadata": {
    "collapsed": true
   },
   "outputs": [],
   "source": [
    "# data_scrapped.drop_duplicates(inplace=True)\n",
    "# data_scrapped.to_csv('data_scraped.csv', index = False, encoding='utf-8')"
   ]
  },
  {
   "cell_type": "code",
   "execution_count": 44,
   "metadata": {
    "collapsed": true
   },
   "outputs": [],
   "source": [
    "# para = []\n",
    "# tags = []\n",
    "# bullets = []\n",
    "# images = []\n",
    "# links = []\n",
    "# data_scrapped = pd.DataFrame()"
   ]
  },
  {
   "cell_type": "code",
   "execution_count": 46,
   "metadata": {
    "collapsed": true
   },
   "outputs": [],
   "source": [
    "# data_scrapped.dropna(inplace=True)\n",
    "# data_scrapped.reset_index(inplace=True)"
   ]
  },
  {
   "cell_type": "code",
   "execution_count": 47,
   "metadata": {
    "collapsed": true
   },
   "outputs": [],
   "source": [
    "# data_scrapped['para'] = [[]] * len(data_scrapped)\n",
    "# data_scrapped['tags'] = [[]] * len(data_scrapped)\n",
    "# data_scrapped['bullets'] = [[]] * len(data_scrapped)\n",
    "# data_scrapped['images'] = [[]] * len(data_scrapped)\n",
    "# data_scrapped['links'] = [[]] * len(data_scrapped)"
   ]
  },
  {
   "cell_type": "code",
   "execution_count": 48,
   "metadata": {},
   "outputs": [
    {
     "data": {
      "text/plain": [
       "(4824, 4824, 4824, 4824, 4824, (4824, 12))"
      ]
     },
     "execution_count": 48,
     "metadata": {},
     "output_type": "execute_result"
    }
   ],
   "source": [
    "# len(para), len(tags), len(bullets), len(images), len(links), data_scrapped.shape"
   ]
  },
  {
   "cell_type": "code",
   "execution_count": 49,
   "metadata": {
    "collapsed": true
   },
   "outputs": [],
   "source": [
    "# data_scrapped['tags'] = tags\n",
    "# data_scrapped['para'] = para\n",
    "# data_scrapped['bullets'] = bullets\n",
    "# data_scrapped['images'] = images\n",
    "# data_scrapped['links'] = links"
   ]
  },
  {
   "cell_type": "code",
   "execution_count": 52,
   "metadata": {},
   "outputs": [
    {
     "data": {
      "text/plain": [
       "(4824, 12)"
      ]
     },
     "execution_count": 52,
     "metadata": {},
     "output_type": "execute_result"
    }
   ],
   "source": [
    "# del data_scrapped['index']\n",
    "# data_scrapped.shape"
   ]
  },
  {
   "cell_type": "code",
   "execution_count": null,
   "metadata": {
    "collapsed": true
   },
   "outputs": [],
   "source": [
    "# for i in range(len(all_posts)):\n",
    "\n",
    "#     try:\n",
    "#         r  = requests.get(all_posts[i])\n",
    "#         data = r.text\n",
    "#         soup = BeautifulSoup(data, 'html.parser')\n",
    "#         data_scrapped.loc[i,'title'] = soup.title.text[0:-23]\n",
    "#         data_scrapped.loc[i,'claps'] = soup.find('button', class_=\"button button--chromeless u-baseColor--buttonNormal js-multirecommendCountButton\").text\n",
    "#         format = \"%Y-%m-%d\"\n",
    "#         data_scrapped.loc[i,'datePublished'] =  datetime.strptime(ast.literal_eval(soup.find('script').text)[\"datePublished\"][0:10], format)\n",
    "#         data_scrapped.loc[i,'read_time'] = soup.find(\"span\",class_ = \"readingTime\")['title'][:-9]\n",
    "#         data_scrapped.loc[i,'followedBy'] = soup.find_all(\"script\")[-1].text.split('\"usersFollowedByCount\":')[1].split(\",\")[0]\n",
    "#         data_scrapped.loc[i,'following'] = soup.find_all(\"script\")[-1].text.split('\"usersFollowedCount\":')[1].split(\",\")[0]\n",
    "        \n",
    "#         links.append([item['href'] for item in soup.find_all('a', class_ = \"markup--anchor markup--p-anchor\")])\n",
    "#         para.append( [hit.text.strip() for hit in soup.find_all('p')])\n",
    "#         tags.append( ast.literal_eval(soup.find('script').text)[\"keywords\"])\n",
    "#         bullets.append( [hit.text.strip() for hit in soup.select('li[class*=\"graf graf--li\"]')])\n",
    "#         images.append( soup.find_all('img', class_=\"graf-image\"))\n",
    "#     except:\n",
    "#         print(i)\n",
    "#     if i%500 == 0:\n",
    "#         print(i)"
   ]
  },
  {
   "cell_type": "code",
   "execution_count": 3,
   "metadata": {
    "collapsed": true
   },
   "outputs": [],
   "source": [
    "# all_posts = []\n",
    "# for u in url:\n",
    "    \n",
    "#     browser.get(u)\n",
    "#     time.sleep(1)\n",
    "    \n",
    "#     elem = browser.find_element_by_tag_name('body')\n",
    "#     # print(elem)\n",
    "\n",
    "#     no_of_pagedowns = 3000\n",
    "\n",
    "#     while no_of_pagedowns:\n",
    "#         elem.send_keys(Keys.PAGE_DOWN)\n",
    "#         time.sleep(0.2)\n",
    "#         no_of_pagedowns-=1\n",
    "\n",
    "\n",
    "#     post_elems = browser.find_elements_by_tag_name(\"a\")\n",
    "\n",
    "#     # for post in post_elems:\n",
    "#     #     print(post.get_attribute('href'), len (post.get_attribute('href')))\n",
    "#     post_relevant = [post for post in post_elems if len(post.get_attribute('href')) > 100]  \n",
    "#     for i in range(0, len(post_relevant), 3):\n",
    "#         all_posts.append(post_relevant[i].get_attribute('href'))\n",
    "#     len(all_posts)"
   ]
  }
 ],
 "metadata": {
  "kernelspec": {
   "display_name": "Python 2",
   "language": "python",
   "name": "python2"
  },
  "language_info": {
   "codemirror_mode": {
    "name": "ipython",
    "version": 2
   },
   "file_extension": ".py",
   "mimetype": "text/x-python",
   "name": "python",
   "nbconvert_exporter": "python",
   "pygments_lexer": "ipython2",
   "version": "2.7.14"
  }
 },
 "nbformat": 4,
 "nbformat_minor": 2
}
