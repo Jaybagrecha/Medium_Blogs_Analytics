{
 "cells": [
  {
   "cell_type": "code",
   "execution_count": null,
   "metadata": {},
   "outputs": [],
   "source": [
    "import time\n",
    "import os\n",
    "from bs4 import BeautifulSoup\n",
    "import requests\n",
    "from selenium import webdriver\n",
    "from selenium.webdriver.common.keys import Keys\n",
    "\n",
    "browser = webdriver.Chrome()\n",
    "\n",
    "browser.get(\"https://medium.com/topic/data-science\")\n",
    "time.sleep(1)"
   ]
  },
  {
   "cell_type": "markdown",
   "metadata": {},
   "source": [
    "### Fetch all links on that page and filter them out"
   ]
  },
  {
   "cell_type": "code",
   "execution_count": null,
   "metadata": {},
   "outputs": [],
   "source": [
    "elem = browser.find_element_by_tag_name('body')\n",
    "# print(elem)\n",
    "\n",
    "no_of_pagedowns = 3000\n",
    "\n",
    "while no_of_pagedowns:\n",
    "    elem.send_keys(Keys.PAGE_DOWN)\n",
    "    time.sleep(0.2)\n",
    "    no_of_pagedowns-=1\n",
    "\n",
    "    \n",
    "post_elems = browser.find_elements_by_tag_name(\"a\")\n",
    "\n",
    "# for post in post_elems:\n",
    "#     print(post.get_attribute('href'), len (post.get_attribute('href')))\n",
    "post_relevant = [post for post in post_elems if len(post.get_attribute('href')) > 100]  \n",
    "all_posts = []\n",
    "for i in range(0, len(post_relevant), 3):\n",
    "    all_posts.append(post_relevant[i].get_attribute('href'))\n",
    "len(all_posts)"
   ]
  },
  {
   "cell_type": "code",
   "execution_count": null,
   "metadata": {},
   "outputs": [],
   "source": [
    "for post in all_posts:\n",
    "    print(post)"
   ]
  },
  {
   "cell_type": "markdown",
   "metadata": {},
   "source": [
    "### Iterate over every link and fetch relevant data"
   ]
  },
  {
   "cell_type": "code",
   "execution_count": null,
   "metadata": {
    "scrolled": false
   },
   "outputs": [],
   "source": [
    "for post in all_posts:\n",
    "    r  = requests.get(post)\n",
    "    data = r.text\n",
    "    soup = BeautifulSoup(data, 'html.parser')\n",
    "\n",
    "    title = soup.title.text[0:-23]\n",
    "    claps = soup.find('button', class_=\"button button--chromeless u-baseColor--buttonNormal js-multirecommendCountButton\").text\n",
    "    para = [hit.text.strip() for hit in soup.find_all('p')] # this contains linkedin id and description as well\n",
    "    tags = [hit.text.strip() for hit in soup.find_all('a', class_=\"link u-baseColor--link\")]\n",
    "    bullets = [hit.text.strip() for hit in soup.select('li[class*=\"graf graf--li\"]')]\n",
    "    images = soup.find_all('img', class_=\"graf-image\")\n",
    "    "
   ]
  },
  {
   "cell_type": "code",
   "execution_count": null,
   "metadata": {},
   "outputs": [],
   "source": []
  }
 ],
 "metadata": {
  "kernelspec": {
   "display_name": "Python 3",
   "language": "python",
   "name": "python3"
  },
  "language_info": {
   "codemirror_mode": {
    "name": "ipython",
    "version": 3
   },
   "file_extension": ".py",
   "mimetype": "text/x-python",
   "name": "python",
   "nbconvert_exporter": "python",
   "pygments_lexer": "ipython3",
   "version": "3.6.3"
  }
 },
 "nbformat": 4,
 "nbformat_minor": 2
}
