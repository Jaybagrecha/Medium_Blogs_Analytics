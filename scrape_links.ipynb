{
 "cells": [
  {
   "cell_type": "code",
   "execution_count": 1,
   "metadata": {},
   "outputs": [],
   "source": [
    "import time\n",
    "import os\n",
    "from bs4 import BeautifulSoup\n",
    "import requests\n",
    "from selenium import webdriver\n",
    "from selenium.webdriver.common.keys import Keys\n",
    "import pandas as pd\n",
    "browser = webdriver.Chrome()\n",
    "\n",
    "browser.get(\"https://medium.com/topic/data-science\")\n",
    "time.sleep(1)"
   ]
  },
  {
   "cell_type": "markdown",
   "metadata": {},
   "source": [
    "### Fetch all links on that page and filter them out"
   ]
  },
  {
   "cell_type": "code",
   "execution_count": 2,
   "metadata": {},
   "outputs": [
    {
     "data": {
      "text/plain": [
       "627"
      ]
     },
     "execution_count": 2,
     "metadata": {},
     "output_type": "execute_result"
    }
   ],
   "source": [
    "elem = browser.find_element_by_tag_name('body')\n",
    "# print(elem)\n",
    "\n",
    "no_of_pagedowns = 3000\n",
    "\n",
    "while no_of_pagedowns:\n",
    "    elem.send_keys(Keys.PAGE_DOWN)\n",
    "    time.sleep(0.2)\n",
    "    no_of_pagedowns-=1\n",
    "\n",
    "    \n",
    "post_elems = browser.find_elements_by_tag_name(\"a\")\n",
    "\n",
    "# for post in post_elems:\n",
    "#     print(post.get_attribute('href'), len (post.get_attribute('href')))\n",
    "post_relevant = [post for post in post_elems if len(post.get_attribute('href')) > 100]  \n",
    "all_posts = []\n",
    "for i in range(0, len(post_relevant), 3):\n",
    "    all_posts.append(post_relevant[i].get_attribute('href'))\n",
    "len(all_posts)"
   ]
  },
  {
   "cell_type": "markdown",
   "metadata": {},
   "source": [
    "### Iterate over every link and fetch relevant data"
   ]
  },
  {
   "cell_type": "code",
   "execution_count": 63,
   "metadata": {
    "scrolled": false
   },
   "outputs": [],
   "source": [
    "import ast\n",
    "from datetime import datetime\n",
    "\n",
    "data_scrapped = pd.DataFrame()\n",
    "for i in range(1,len(all_posts)):\n",
    "    r  = requests.get(all_posts[i])\n",
    "    data = r.text\n",
    "    soup = BeautifulSoup(data, 'html.parser')\n",
    "    data_scrapped.loc[i-1,'title'] = soup.title.text[0:-23]\n",
    "    data_scrapped.loc[i-1,'claps'] = soup.find('button', class_=\"button button--chromeless u-baseColor--buttonNormal js-multirecommendCountButton\").text\n",
    "    format = \"%Y-%m-%d\"\n",
    "    data_scrapped.loc[i-1,'datePublished'] =  datetime.strptime(ast.literal_eval(soup.find('script').text)[\"datePublished\"][0:10], format)\n",
    "    data_scrapped.loc[i-1,'read_time'] = soup.find(\"span\",class_ = \"readingTime\")['title'][:-9]\n",
    "    "
   ]
  },
  {
   "cell_type": "code",
   "execution_count": 64,
   "metadata": {},
   "outputs": [],
   "source": [
    "data_scrapped['para'] = [[]] * len(data_scrapped)\n",
    "data_scrapped['tags'] = [[]] * len(data_scrapped)\n",
    "data_scrapped['bullets'] = [[]] * len(data_scrapped)\n",
    "data_scrapped['images'] = [[]] * len(data_scrapped)"
   ]
  },
  {
   "cell_type": "code",
   "execution_count": 37,
   "metadata": {},
   "outputs": [],
   "source": [
    "para = []\n",
    "tags = []\n",
    "bullets = []\n",
    "images = []\n",
    "for i in range(1,len(all_posts)):\n",
    "    r  = requests.get(all_posts[i])\n",
    "    data = r.text\n",
    "    soup = BeautifulSoup(data, 'html.parser')\n",
    "    para.append( [hit.text.strip() for hit in soup.find_all('p')])\n",
    "    tags.append( ast.literal_eval(soup.find('script').text)[\"keywords\"])\n",
    "    bullets.append( [hit.text.strip() for hit in soup.select('li[class*=\"graf graf--li\"]')])\n",
    "    images.append( soup.find_all('img', class_=\"graf-image\"))"
   ]
  },
  {
   "cell_type": "code",
   "execution_count": 38,
   "metadata": {},
   "outputs": [
    {
     "data": {
      "text/plain": [
       "(626, 626, 626, 626)"
      ]
     },
     "execution_count": 38,
     "metadata": {},
     "output_type": "execute_result"
    }
   ],
   "source": [
    "len(para), len(tags), len(bullets), len(images)"
   ]
  },
  {
   "cell_type": "code",
   "execution_count": 65,
   "metadata": {},
   "outputs": [],
   "source": [
    "data_scrapped['para'] = para\n",
    "data_scrapped['tags'] = tags\n",
    "data_scrapped['bullets']  = bullets\n",
    "data_scrapped['images'] = images"
   ]
  },
  {
   "cell_type": "code",
   "execution_count": 88,
   "metadata": {},
   "outputs": [
    {
     "data": {
      "text/plain": [
       "['Machine Learning',\n",
       " 'Data Science',\n",
       " 'Towards Data Science',\n",
       " 'Neural Networks',\n",
       " 'Deep Learning']"
      ]
     },
     "execution_count": 88,
     "metadata": {},
     "output_type": "execute_result"
    }
   ],
   "source": [
    "data_scrapped.loc[5,'tags']"
   ]
  },
  {
   "cell_type": "code",
   "execution_count": 62,
   "metadata": {},
   "outputs": [
    {
     "data": {
      "text/plain": [
       "(626, 7)"
      ]
     },
     "execution_count": 62,
     "metadata": {},
     "output_type": "execute_result"
    }
   ],
   "source": [
    "data_scrapped.shape"
   ]
  },
  {
   "cell_type": "code",
   "execution_count": 93,
   "metadata": {},
   "outputs": [],
   "source": [
    "from nltk.sentiment.vader import SentimentIntensityAnalyzer\n",
    "sid = SentimentIntensityAnalyzer()\n",
    "ss = sid.polarity_scores(\"you are dumb\")"
   ]
  },
  {
   "cell_type": "code",
   "execution_count": 108,
   "metadata": {},
   "outputs": [],
   "source": [
    "data = pd.DataFrame()\n",
    "for i in range(data_scrapped.shape[0]):\n",
    "    data.loc[i, \"title_words\"] = len(data_scrapped.loc[i, \"title\"].split(\" \"))\n",
    "    data.loc[i, \"days_passed\"] = (datetime.now() - data_scrapped.loc[i,'datePublished'] ).days\n",
    "    data.loc[i, \"ct_image\"] = len(data_scrapped.loc[i, \"images\"])\n",
    "    data.loc[i, \"ct_tags\"] = len(data_scrapped.loc[i, \"tags\"])\n",
    "    text =  \" \".join(data_scrapped.loc[i, \"para\"] + data_scrapped.loc[i, \"bullets\"]).split()\n",
    "    data.loc[i, \"ct_words\"] = len(text)\n",
    "    data.loc[i, \"title_emot_quotient\"] = abs(sid.polarity_scores(data_scrapped.loc[i, \"title\"])['compound'])\n",
    "    data.loc[i, \"featured_in_tds\"] = 'Towards Data Science' in data_scrapped.loc[i,'tags']\n",
    "    data.loc[i,'read_time'] = int(data_scrapped.loc[i,'read_time'])\n",
    "    "
   ]
  },
  {
   "cell_type": "code",
   "execution_count": 110,
   "metadata": {},
   "outputs": [],
   "source": [
    "def claps2num(x):\n",
    "    if \"K\" in x:\n",
    "        return float(x.replace(\"K\",\"\"))*1000\n",
    "    else:\n",
    "        return int(x)\n",
    "data['claps'] = data_scrapped['claps'].apply(lambda x: claps2num(x))"
   ]
  },
  {
   "cell_type": "code",
   "execution_count": 111,
   "metadata": {},
   "outputs": [],
   "source": [
    "data[\"words/img\"] = data['ct_words']/data['ct_image']"
   ]
  },
  {
   "cell_type": "code",
   "execution_count": 112,
   "metadata": {},
   "outputs": [],
   "source": [
    "data.to_csv(\"data.csv\",index=False)"
   ]
  },
  {
   "cell_type": "code",
   "execution_count": 127,
   "metadata": {},
   "outputs": [
    {
     "data": {
      "text/html": [
       "<div>\n",
       "<style>\n",
       "    .dataframe thead tr:only-child th {\n",
       "        text-align: right;\n",
       "    }\n",
       "\n",
       "    .dataframe thead th {\n",
       "        text-align: left;\n",
       "    }\n",
       "\n",
       "    .dataframe tbody tr th {\n",
       "        vertical-align: top;\n",
       "    }\n",
       "</style>\n",
       "<table border=\"1\" class=\"dataframe\">\n",
       "  <thead>\n",
       "    <tr style=\"text-align: right;\">\n",
       "      <th></th>\n",
       "      <th>title_words</th>\n",
       "      <th>days_passed</th>\n",
       "      <th>ct_image</th>\n",
       "      <th>ct_tags</th>\n",
       "      <th>ct_words</th>\n",
       "      <th>title_emot_quotient</th>\n",
       "      <th>featured_in_tds</th>\n",
       "      <th>read_time</th>\n",
       "      <th>claps</th>\n",
       "      <th>words/img</th>\n",
       "    </tr>\n",
       "  </thead>\n",
       "  <tbody>\n",
       "    <tr>\n",
       "      <th>0</th>\n",
       "      <td>8.0</td>\n",
       "      <td>1.0</td>\n",
       "      <td>2.0</td>\n",
       "      <td>5.0</td>\n",
       "      <td>661.0</td>\n",
       "      <td>0.2500</td>\n",
       "      <td>True</td>\n",
       "      <td>3.0</td>\n",
       "      <td>1400.0</td>\n",
       "      <td>330.500000</td>\n",
       "    </tr>\n",
       "    <tr>\n",
       "      <th>1</th>\n",
       "      <td>10.0</td>\n",
       "      <td>6.0</td>\n",
       "      <td>5.0</td>\n",
       "      <td>5.0</td>\n",
       "      <td>422.0</td>\n",
       "      <td>0.0000</td>\n",
       "      <td>False</td>\n",
       "      <td>3.0</td>\n",
       "      <td>3500.0</td>\n",
       "      <td>84.400000</td>\n",
       "    </tr>\n",
       "    <tr>\n",
       "      <th>2</th>\n",
       "      <td>4.0</td>\n",
       "      <td>3.0</td>\n",
       "      <td>4.0</td>\n",
       "      <td>5.0</td>\n",
       "      <td>930.0</td>\n",
       "      <td>0.0000</td>\n",
       "      <td>True</td>\n",
       "      <td>5.0</td>\n",
       "      <td>620.0</td>\n",
       "      <td>232.500000</td>\n",
       "    </tr>\n",
       "    <tr>\n",
       "      <th>3</th>\n",
       "      <td>7.0</td>\n",
       "      <td>4.0</td>\n",
       "      <td>3.0</td>\n",
       "      <td>3.0</td>\n",
       "      <td>736.0</td>\n",
       "      <td>0.0000</td>\n",
       "      <td>False</td>\n",
       "      <td>4.0</td>\n",
       "      <td>1000.0</td>\n",
       "      <td>245.333333</td>\n",
       "    </tr>\n",
       "    <tr>\n",
       "      <th>4</th>\n",
       "      <td>8.0</td>\n",
       "      <td>4.0</td>\n",
       "      <td>2.0</td>\n",
       "      <td>5.0</td>\n",
       "      <td>700.0</td>\n",
       "      <td>0.4019</td>\n",
       "      <td>False</td>\n",
       "      <td>3.0</td>\n",
       "      <td>470.0</td>\n",
       "      <td>350.000000</td>\n",
       "    </tr>\n",
       "  </tbody>\n",
       "</table>\n",
       "</div>"
      ],
      "text/plain": [
       "   title_words  days_passed  ct_image  ct_tags  ct_words  title_emot_quotient  \\\n",
       "0          8.0          1.0       2.0      5.0     661.0               0.2500   \n",
       "1         10.0          6.0       5.0      5.0     422.0               0.0000   \n",
       "2          4.0          3.0       4.0      5.0     930.0               0.0000   \n",
       "3          7.0          4.0       3.0      3.0     736.0               0.0000   \n",
       "4          8.0          4.0       2.0      5.0     700.0               0.4019   \n",
       "\n",
       "  featured_in_tds  read_time   claps   words/img  \n",
       "0            True        3.0  1400.0  330.500000  \n",
       "1           False        3.0  3500.0   84.400000  \n",
       "2            True        5.0   620.0  232.500000  \n",
       "3           False        4.0  1000.0  245.333333  \n",
       "4           False        3.0   470.0  350.000000  "
      ]
     },
     "execution_count": 127,
     "metadata": {},
     "output_type": "execute_result"
    }
   ],
   "source": [
    "data.head()"
   ]
  },
  {
   "cell_type": "code",
   "execution_count": 117,
   "metadata": {},
   "outputs": [
    {
     "data": {
      "text/plain": [
       "<matplotlib.axes._subplots.AxesSubplot at 0x1380320d0>"
      ]
     },
     "execution_count": 117,
     "metadata": {},
     "output_type": "execute_result"
    },
    {
     "data": {
      "image/png": "[encoded data removed]",
      "text/plain": [
       "<matplotlib.figure.Figure at 0x136f3a250>"
      ]
     },
     "metadata": {},
     "output_type": "display_data"
    }
   ],
   "source": [
    "import numpy as np\n",
    "import pandas as pd\n",
    "import seaborn as sns\n",
    "import matplotlib.pyplot as plt\n",
    "%matplotlib inline \n",
    "sns.set(style=\"white\")\n",
    "# Compute the correlation matrix\n",
    "corr = data.corr()\n",
    "\n",
    "# Generate a mask for the upper triangle\n",
    "mask = np.zeros_like(corr, dtype=np.bool)\n",
    "mask[np.triu_indices_from(mask)] = True\n",
    "\n",
    "# Set up the matplotlib figure\n",
    "f, ax = plt.subplots(figsize=(11, 9))\n",
    "\n",
    "# Generate a custom diverging colormap\n",
    "cmap = sns.diverging_palette(220, 10, as_cmap=True)\n",
    "\n",
    "# Draw the heatmap with the mask and correct aspect ratio\n",
    "sns.heatmap(corr, mask=mask, cmap=cmap, vmax=.3, center=0,\n",
    "            square=True, linewidths=.5, cbar_kws={\"shrink\": .5})\n"
   ]
  },
  {
   "cell_type": "code",
   "execution_count": null,
   "metadata": {},
   "outputs": [],
   "source": []
  },
  {
   "cell_type": "code",
   "execution_count": null,
   "metadata": {},
   "outputs": [],
   "source": []
  },
  {
   "cell_type": "code",
   "execution_count": null,
   "metadata": {},
   "outputs": [],
   "source": []
  }
 ],
 "metadata": {
  "kernelspec": {
   "display_name": "Python 2",
   "language": "python",
   "name": "python2"
  },
  "language_info": {
   "codemirror_mode": {
    "name": "ipython",
    "version": 2
   },
   "file_extension": ".py",
   "mimetype": "text/x-python",
   "name": "python",
   "nbconvert_exporter": "python",
   "pygments_lexer": "ipython2",
   "version": "2.7.14"
  }
 },
 "nbformat": 4,
 "nbformat_minor": 2
}
