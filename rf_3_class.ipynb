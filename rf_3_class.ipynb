{
 "cells": [
  {
   "cell_type": "code",
   "execution_count": 538,
   "metadata": {
    "collapsed": true
   },
   "outputs": [],
   "source": [
    "import pandas as pd\n",
    "import numpy as np\n",
    "from sklearn.ensemble import RandomForestClassifier, RandomForestRegressor\n",
    "from sklearn.model_selection import train_test_split, GridSearchCV\n",
    "from sklearn.metrics import log_loss\n",
    "import math\n",
    "import matplotlib.pyplot as plt\n",
    "%matplotlib inline \n",
    "from datetime import datetime\n",
    "from sklearn.metrics import confusion_matrix\n",
    "import itertools"
   ]
  },
  {
   "cell_type": "code",
   "execution_count": 539,
   "metadata": {},
   "outputs": [
    {
     "data": {
      "text/html": [
       "<div>\n",
       "<style scoped>\n",
       "    .dataframe tbody tr th:only-of-type {\n",
       "        vertical-align: middle;\n",
       "    }\n",
       "\n",
       "    .dataframe tbody tr th {\n",
       "        vertical-align: top;\n",
       "    }\n",
       "\n",
       "    .dataframe thead th {\n",
       "        text-align: right;\n",
       "    }\n",
       "</style>\n",
       "<table border=\"1\" class=\"dataframe\">\n",
       "  <thead>\n",
       "    <tr style=\"text-align: right;\">\n",
       "      <th></th>\n",
       "      <th>title_words</th>\n",
       "      <th>days_passed</th>\n",
       "      <th>ct_image</th>\n",
       "      <th>ct_tags</th>\n",
       "      <th>text</th>\n",
       "      <th>ct_words</th>\n",
       "      <th>title_emot_quotient</th>\n",
       "      <th>featured_in_tds</th>\n",
       "      <th>read_time</th>\n",
       "      <th>links</th>\n",
       "      <th>...</th>\n",
       "      <th>day_of_week</th>\n",
       "      <th>month</th>\n",
       "      <th>is_month_end</th>\n",
       "      <th>is_quarter_end</th>\n",
       "      <th>is_month_start</th>\n",
       "      <th>is_quarter_start</th>\n",
       "      <th>week_of_year</th>\n",
       "      <th>quarter</th>\n",
       "      <th>bullets_present</th>\n",
       "      <th>ct_links</th>\n",
       "    </tr>\n",
       "  </thead>\n",
       "  <tbody>\n",
       "    <tr>\n",
       "      <th>3</th>\n",
       "      <td>6.0</td>\n",
       "      <td>6.0</td>\n",
       "      <td>8.0</td>\n",
       "      <td>78.0</td>\n",
       "      <td>[Clustering is a Machine Learning technique th...</td>\n",
       "      <td>2492.0</td>\n",
       "      <td>0.0</td>\n",
       "      <td>True</td>\n",
       "      <td>11.0</td>\n",
       "      <td>[]</td>\n",
       "      <td>...</td>\n",
       "      <td>0</td>\n",
       "      <td>2</td>\n",
       "      <td>False</td>\n",
       "      <td>False</td>\n",
       "      <td>False</td>\n",
       "      <td>False</td>\n",
       "      <td>6</td>\n",
       "      <td>1</td>\n",
       "      <td>1</td>\n",
       "      <td>1</td>\n",
       "    </tr>\n",
       "    <tr>\n",
       "      <th>4</th>\n",
       "      <td>7.0</td>\n",
       "      <td>7.0</td>\n",
       "      <td>1.0</td>\n",
       "      <td>45.0</td>\n",
       "      <td>[In the initial series post, we created a simp...</td>\n",
       "      <td>2367.0</td>\n",
       "      <td>0.0</td>\n",
       "      <td>False</td>\n",
       "      <td>10.0</td>\n",
       "      <td>[https://medium.com/@chris.moradi/building-pre...</td>\n",
       "      <td>...</td>\n",
       "      <td>6</td>\n",
       "      <td>2</td>\n",
       "      <td>False</td>\n",
       "      <td>False</td>\n",
       "      <td>False</td>\n",
       "      <td>False</td>\n",
       "      <td>5</td>\n",
       "      <td>1</td>\n",
       "      <td>1</td>\n",
       "      <td>4</td>\n",
       "    </tr>\n",
       "  </tbody>\n",
       "</table>\n",
       "<p>2 rows × 34 columns</p>\n",
       "</div>"
      ],
      "text/plain": [
       "   title_words  days_passed  ct_image  ct_tags  \\\n",
       "3          6.0          6.0       8.0     78.0   \n",
       "4          7.0          7.0       1.0     45.0   \n",
       "\n",
       "                                                text  ct_words  \\\n",
       "3  [Clustering is a Machine Learning technique th...    2492.0   \n",
       "4  [In the initial series post, we created a simp...    2367.0   \n",
       "\n",
       "   title_emot_quotient  featured_in_tds  read_time  \\\n",
       "3                  0.0             True       11.0   \n",
       "4                  0.0            False       10.0   \n",
       "\n",
       "                                               links   ...     day_of_week  \\\n",
       "3                                                 []   ...               0   \n",
       "4  [https://medium.com/@chris.moradi/building-pre...   ...               6   \n",
       "\n",
       "   month  is_month_end  is_quarter_end is_month_start is_quarter_start  \\\n",
       "3      2         False           False          False            False   \n",
       "4      2         False           False          False            False   \n",
       "\n",
       "  week_of_year quarter bullets_present ct_links  \n",
       "3            6       1               1        1  \n",
       "4            5       1               1        4  \n",
       "\n",
       "[2 rows x 34 columns]"
      ]
     },
     "execution_count": 539,
     "metadata": {},
     "output_type": "execute_result"
    }
   ],
   "source": [
    "data = pd.read_csv('prepared_data_with_cuts.csv', index_col=0)\n",
    "\n",
    "data.head(2)"
   ]
  },
  {
   "cell_type": "code",
   "execution_count": 541,
   "metadata": {
    "collapsed": true
   },
   "outputs": [],
   "source": [
    "features = ['title_words', 'days_passed', 'ct_image', 'ct_tags', 'ct_words',\n",
    "       'title_emot_quotient', 'featured_in_tds', 'read_time',\n",
    "       'img/word',  'text_sentiment', 'keyword_proportion', 'day', 'day_of_week', 'month', \n",
    "       'bullets_present', 'followedBy', 'following', 'ct_links', 'is_month_end', 'is_quarter_end', 'is_month_start', 'is_quarter_start',\n",
    "       'week_of_year', 'quarter']"
   ]
  },
  {
   "cell_type": "code",
   "execution_count": 542,
   "metadata": {
    "collapsed": true,
    "scrolled": true
   },
   "outputs": [],
   "source": [
    "claps=pd.Series(data['claps'])"
   ]
  },
  {
   "cell_type": "code",
   "execution_count": 587,
   "metadata": {},
   "outputs": [
    {
     "data": {
      "text/plain": [
       "754.2999999999997"
      ]
     },
     "execution_count": 587,
     "metadata": {},
     "output_type": "execute_result"
    }
   ],
   "source": [
    "claps.quantile(.85)"
   ]
  },
  {
   "cell_type": "code",
   "execution_count": null,
   "metadata": {
    "collapsed": true
   },
   "outputs": [],
   "source": [
    "#### bin_data = pd.DataFrame([[0,0,150], [1,151,750], [2,751, claps.max()]])\n",
    "bin_data.columns = ['bucket', 'start', 'end']"
   ]
  },
  {
   "cell_type": "code",
   "execution_count": 544,
   "metadata": {
    "collapsed": true
   },
   "outputs": [],
   "source": [
    "data['new_claps'] = 2\n",
    "data['new_claps'] = data['claps'].apply(lambda x: 0 if x <=150 else 1 if (x > 150 and x <= 750) else 2)"
   ]
  },
  {
   "cell_type": "code",
   "execution_count": 545,
   "metadata": {},
   "outputs": [
    {
     "data": {
      "text/html": [
       "<div>\n",
       "<style scoped>\n",
       "    .dataframe tbody tr th:only-of-type {\n",
       "        vertical-align: middle;\n",
       "    }\n",
       "\n",
       "    .dataframe tbody tr th {\n",
       "        vertical-align: top;\n",
       "    }\n",
       "\n",
       "    .dataframe thead th {\n",
       "        text-align: right;\n",
       "    }\n",
       "</style>\n",
       "<table border=\"1\" class=\"dataframe\">\n",
       "  <thead>\n",
       "    <tr style=\"text-align: right;\">\n",
       "      <th></th>\n",
       "      <th>bucket</th>\n",
       "      <th>start</th>\n",
       "      <th>end</th>\n",
       "    </tr>\n",
       "  </thead>\n",
       "  <tbody>\n",
       "    <tr>\n",
       "      <th>0</th>\n",
       "      <td>0</td>\n",
       "      <td>0</td>\n",
       "      <td>150.0</td>\n",
       "    </tr>\n",
       "    <tr>\n",
       "      <th>1</th>\n",
       "      <td>1</td>\n",
       "      <td>151</td>\n",
       "      <td>750.0</td>\n",
       "    </tr>\n",
       "    <tr>\n",
       "      <th>2</th>\n",
       "      <td>2</td>\n",
       "      <td>751</td>\n",
       "      <td>2000.0</td>\n",
       "    </tr>\n",
       "  </tbody>\n",
       "</table>\n",
       "</div>"
      ],
      "text/plain": [
       "   bucket  start     end\n",
       "0       0      0   150.0\n",
       "1       1    151   750.0\n",
       "2       2    751  2000.0"
      ]
     },
     "execution_count": 545,
     "metadata": {},
     "output_type": "execute_result"
    }
   ],
   "source": [
    "bin_data"
   ]
  },
  {
   "cell_type": "code",
   "execution_count": 546,
   "metadata": {
    "collapsed": true
   },
   "outputs": [],
   "source": [
    "X = data[features]\n",
    "y = data['new_claps']"
   ]
  },
  {
   "cell_type": "code",
   "execution_count": 547,
   "metadata": {
    "collapsed": true
   },
   "outputs": [],
   "source": [
    "X_train, X_val, y_train, y_val = train_test_split(X, y, test_size=0.20, random_state=10)"
   ]
  },
  {
   "cell_type": "code",
   "execution_count": 548,
   "metadata": {},
   "outputs": [
    {
     "data": {
      "text/plain": [
       "((3391, 24), (848, 24))"
      ]
     },
     "execution_count": 548,
     "metadata": {},
     "output_type": "execute_result"
    }
   ],
   "source": [
    "X_train.shape, X_val.shape"
   ]
  },
  {
   "cell_type": "code",
   "execution_count": 588,
   "metadata": {},
   "outputs": [
    {
     "data": {
      "text/plain": [
       "0    1868\n",
       "1    1730\n",
       "2     641\n",
       "Name: new_claps, dtype: int64"
      ]
     },
     "execution_count": 588,
     "metadata": {},
     "output_type": "execute_result"
    }
   ],
   "source": [
    "data['new_claps'].value_counts()"
   ]
  },
  {
   "cell_type": "code",
   "execution_count": 550,
   "metadata": {},
   "outputs": [
    {
     "data": {
      "text/html": [
       "<div>\n",
       "<style scoped>\n",
       "    .dataframe tbody tr th:only-of-type {\n",
       "        vertical-align: middle;\n",
       "    }\n",
       "\n",
       "    .dataframe tbody tr th {\n",
       "        vertical-align: top;\n",
       "    }\n",
       "\n",
       "    .dataframe thead th {\n",
       "        text-align: right;\n",
       "    }\n",
       "</style>\n",
       "<table border=\"1\" class=\"dataframe\">\n",
       "  <thead>\n",
       "    <tr style=\"text-align: right;\">\n",
       "      <th></th>\n",
       "      <th>title_words</th>\n",
       "      <th>days_passed</th>\n",
       "      <th>ct_image</th>\n",
       "      <th>ct_tags</th>\n",
       "      <th>ct_words</th>\n",
       "      <th>title_emot_quotient</th>\n",
       "      <th>featured_in_tds</th>\n",
       "      <th>read_time</th>\n",
       "      <th>img/word</th>\n",
       "      <th>text_sentiment</th>\n",
       "      <th>...</th>\n",
       "      <th>bullets_present</th>\n",
       "      <th>followedBy</th>\n",
       "      <th>following</th>\n",
       "      <th>ct_links</th>\n",
       "      <th>is_month_end</th>\n",
       "      <th>is_quarter_end</th>\n",
       "      <th>is_month_start</th>\n",
       "      <th>is_quarter_start</th>\n",
       "      <th>week_of_year</th>\n",
       "      <th>quarter</th>\n",
       "    </tr>\n",
       "  </thead>\n",
       "  <tbody>\n",
       "    <tr>\n",
       "      <th>2068</th>\n",
       "      <td>7.0</td>\n",
       "      <td>67.0</td>\n",
       "      <td>2.0</td>\n",
       "      <td>45.0</td>\n",
       "      <td>1416.0</td>\n",
       "      <td>0.0</td>\n",
       "      <td>False</td>\n",
       "      <td>7.0</td>\n",
       "      <td>0.001412</td>\n",
       "      <td>-0.9966</td>\n",
       "      <td>...</td>\n",
       "      <td>0</td>\n",
       "      <td>10983.0</td>\n",
       "      <td>3.0</td>\n",
       "      <td>24</td>\n",
       "      <td>False</td>\n",
       "      <td>False</td>\n",
       "      <td>False</td>\n",
       "      <td>False</td>\n",
       "      <td>49</td>\n",
       "      <td>4</td>\n",
       "    </tr>\n",
       "    <tr>\n",
       "      <th>601</th>\n",
       "      <td>10.0</td>\n",
       "      <td>224.0</td>\n",
       "      <td>2.0</td>\n",
       "      <td>47.0</td>\n",
       "      <td>882.0</td>\n",
       "      <td>0.0</td>\n",
       "      <td>True</td>\n",
       "      <td>5.0</td>\n",
       "      <td>0.002268</td>\n",
       "      <td>0.9961</td>\n",
       "      <td>...</td>\n",
       "      <td>1</td>\n",
       "      <td>1430.0</td>\n",
       "      <td>111.0</td>\n",
       "      <td>6</td>\n",
       "      <td>False</td>\n",
       "      <td>False</td>\n",
       "      <td>False</td>\n",
       "      <td>False</td>\n",
       "      <td>26</td>\n",
       "      <td>3</td>\n",
       "    </tr>\n",
       "    <tr>\n",
       "      <th>617</th>\n",
       "      <td>7.0</td>\n",
       "      <td>255.0</td>\n",
       "      <td>1.0</td>\n",
       "      <td>80.0</td>\n",
       "      <td>234.0</td>\n",
       "      <td>0.0</td>\n",
       "      <td>False</td>\n",
       "      <td>3.0</td>\n",
       "      <td>0.004274</td>\n",
       "      <td>-0.1655</td>\n",
       "      <td>...</td>\n",
       "      <td>1</td>\n",
       "      <td>139.0</td>\n",
       "      <td>194.0</td>\n",
       "      <td>1</td>\n",
       "      <td>False</td>\n",
       "      <td>False</td>\n",
       "      <td>True</td>\n",
       "      <td>False</td>\n",
       "      <td>22</td>\n",
       "      <td>2</td>\n",
       "    </tr>\n",
       "    <tr>\n",
       "      <th>4655</th>\n",
       "      <td>10.0</td>\n",
       "      <td>223.0</td>\n",
       "      <td>2.0</td>\n",
       "      <td>30.0</td>\n",
       "      <td>280.0</td>\n",
       "      <td>0.0</td>\n",
       "      <td>False</td>\n",
       "      <td>2.0</td>\n",
       "      <td>0.007143</td>\n",
       "      <td>0.7331</td>\n",
       "      <td>...</td>\n",
       "      <td>0</td>\n",
       "      <td>710.0</td>\n",
       "      <td>71.0</td>\n",
       "      <td>1</td>\n",
       "      <td>False</td>\n",
       "      <td>False</td>\n",
       "      <td>False</td>\n",
       "      <td>False</td>\n",
       "      <td>27</td>\n",
       "      <td>3</td>\n",
       "    </tr>\n",
       "    <tr>\n",
       "      <th>1986</th>\n",
       "      <td>8.0</td>\n",
       "      <td>54.0</td>\n",
       "      <td>1.0</td>\n",
       "      <td>48.0</td>\n",
       "      <td>76.0</td>\n",
       "      <td>0.0</td>\n",
       "      <td>False</td>\n",
       "      <td>5.0</td>\n",
       "      <td>0.013158</td>\n",
       "      <td>-0.1511</td>\n",
       "      <td>...</td>\n",
       "      <td>0</td>\n",
       "      <td>2461.0</td>\n",
       "      <td>1.0</td>\n",
       "      <td>2</td>\n",
       "      <td>False</td>\n",
       "      <td>False</td>\n",
       "      <td>False</td>\n",
       "      <td>False</td>\n",
       "      <td>51</td>\n",
       "      <td>4</td>\n",
       "    </tr>\n",
       "  </tbody>\n",
       "</table>\n",
       "<p>5 rows × 24 columns</p>\n",
       "</div>"
      ],
      "text/plain": [
       "      title_words  days_passed  ct_image  ct_tags  ct_words  \\\n",
       "2068          7.0         67.0       2.0     45.0    1416.0   \n",
       "601          10.0        224.0       2.0     47.0     882.0   \n",
       "617           7.0        255.0       1.0     80.0     234.0   \n",
       "4655         10.0        223.0       2.0     30.0     280.0   \n",
       "1986          8.0         54.0       1.0     48.0      76.0   \n",
       "\n",
       "      title_emot_quotient  featured_in_tds  read_time  img/word  \\\n",
       "2068                  0.0            False        7.0  0.001412   \n",
       "601                   0.0             True        5.0  0.002268   \n",
       "617                   0.0            False        3.0  0.004274   \n",
       "4655                  0.0            False        2.0  0.007143   \n",
       "1986                  0.0            False        5.0  0.013158   \n",
       "\n",
       "      text_sentiment   ...     bullets_present  followedBy  following  \\\n",
       "2068         -0.9966   ...                   0     10983.0        3.0   \n",
       "601           0.9961   ...                   1      1430.0      111.0   \n",
       "617          -0.1655   ...                   1       139.0      194.0   \n",
       "4655          0.7331   ...                   0       710.0       71.0   \n",
       "1986         -0.1511   ...                   0      2461.0        1.0   \n",
       "\n",
       "      ct_links  is_month_end  is_quarter_end  is_month_start  \\\n",
       "2068        24         False           False           False   \n",
       "601          6         False           False           False   \n",
       "617          1         False           False            True   \n",
       "4655         1         False           False           False   \n",
       "1986         2         False           False           False   \n",
       "\n",
       "      is_quarter_start  week_of_year  quarter  \n",
       "2068             False            49        4  \n",
       "601              False            26        3  \n",
       "617              False            22        2  \n",
       "4655             False            27        3  \n",
       "1986             False            51        4  \n",
       "\n",
       "[5 rows x 24 columns]"
      ]
     },
     "execution_count": 550,
     "metadata": {},
     "output_type": "execute_result"
    }
   ],
   "source": [
    "X_train.head()"
   ]
  },
  {
   "cell_type": "code",
   "execution_count": 551,
   "metadata": {
    "collapsed": true
   },
   "outputs": [],
   "source": [
    "rf = RandomForestClassifier()"
   ]
  },
  {
   "cell_type": "code",
   "execution_count": 655,
   "metadata": {
    "collapsed": true
   },
   "outputs": [],
   "source": [
    "grid = {'min_samples_leaf' : [3,5, 10, 15], 'max_features' : ['auto', 'log2', 'sqrt'], 'n_estimators':[100,200,300]\n",
    "       }\n",
    "clf = GridSearchCV(rf, grid, cv=5)\n",
    "clf.fit(X_train, y_train)\n",
    "clf.best_estimator_"
   ]
  },
  {
   "cell_type": "code",
   "execution_count": 512,
   "metadata": {
    "collapsed": true
   },
   "outputs": [],
   "source": [
    "rf = RandomForestClassifier(min_samples_leaf=5, max_features='auto', n_estimators=400, random_state=10)\n",
    "\n",
    "rf.fit(X_train, y_train)\n",
    "val_pred_probs = rf.predict_proba(X_val)\n",
    "\n",
    "val_pred = rf.predict(X_val)"
   ]
  },
  {
   "cell_type": "code",
   "execution_count": null,
   "metadata": {
    "collapsed": true
   },
   "outputs": [],
   "source": [
    "train_pred = rf.predict(X_train)"
   ]
  },
  {
   "cell_type": "code",
   "execution_count": null,
   "metadata": {
    "collapsed": true
   },
   "outputs": [],
   "source": [
    "log_loss(y_val, val_pred_probs, labels=rf.classes_)"
   ]
  },
  {
   "cell_type": "code",
   "execution_count": null,
   "metadata": {
    "collapsed": true,
    "scrolled": true
   },
   "outputs": [],
   "source": [
    "pd.Series(val_pred).value_counts()"
   ]
  },
  {
   "cell_type": "code",
   "execution_count": null,
   "metadata": {
    "collapsed": true
   },
   "outputs": [],
   "source": [
    "act_pred = pd.concat([pd.Series(list(y_val)), pd.Series(val_pred)], axis = 1)\n",
    "act_pred.columns = ['actual_bin', 'predicted_bin']\n",
    "\n",
    "act_pred.head()\n",
    "\n",
    "bin_data['bucket'] = bin_data['bucket'].astype('uint8')\n",
    "bin_data['start'] = bin_data['start'].astype('float32')\n",
    "bin_data['end'] = bin_data['end'].astype('float32')\n",
    "\n",
    "\n",
    "bin_data.info()\n",
    "\n",
    "old_range = pd.DataFrame(bin_data.loc[np.array(act_pred.actual_bin),['start', 'end']])\n",
    "old_range.reset_index(drop=True, inplace = True)\n",
    "# old_range.head()\n",
    "new_range = pd.DataFrame(bin_data.loc[np.array(act_pred.predicted_bin),['start', 'end']])\n",
    "new_range.reset_index(drop=True, inplace = True)\n",
    "new_range.head()\n",
    "\n",
    "final_pred = pd.DataFrame(pd.concat([old_range, new_range], axis = 1))\n",
    "\n",
    "final_pred = final_pred.set_index(X_val.index.values)\n",
    "final_pred.columns = ['actual_start', 'actual_end', 'pred_start', 'pred_end']\n",
    "# final_pred.head(50)\n",
    "\n",
    "final_pred.loc[[4294, 3905, 1407, 2901, 3385, 4098, 2168, 479]]"
   ]
  },
  {
   "cell_type": "code",
   "execution_count": 460,
   "metadata": {},
   "outputs": [
    {
     "data": {
      "text/html": [
       "<div>\n",
       "<style scoped>\n",
       "    .dataframe tbody tr th:only-of-type {\n",
       "        vertical-align: middle;\n",
       "    }\n",
       "\n",
       "    .dataframe tbody tr th {\n",
       "        vertical-align: top;\n",
       "    }\n",
       "\n",
       "    .dataframe thead th {\n",
       "        text-align: right;\n",
       "    }\n",
       "</style>\n",
       "<table border=\"1\" class=\"dataframe\">\n",
       "  <thead>\n",
       "    <tr style=\"text-align: right;\">\n",
       "      <th></th>\n",
       "      <th>Importance</th>\n",
       "    </tr>\n",
       "  </thead>\n",
       "  <tbody>\n",
       "    <tr>\n",
       "      <th>days_passed</th>\n",
       "      <td>0.112793</td>\n",
       "    </tr>\n",
       "    <tr>\n",
       "      <th>followedBy</th>\n",
       "      <td>0.104345</td>\n",
       "    </tr>\n",
       "    <tr>\n",
       "      <th>keyword_proportion</th>\n",
       "      <td>0.075599</td>\n",
       "    </tr>\n",
       "    <tr>\n",
       "      <th>following</th>\n",
       "      <td>0.067840</td>\n",
       "    </tr>\n",
       "    <tr>\n",
       "      <th>img/word</th>\n",
       "      <td>0.067047</td>\n",
       "    </tr>\n",
       "    <tr>\n",
       "      <th>week_of_year</th>\n",
       "      <td>0.064149</td>\n",
       "    </tr>\n",
       "    <tr>\n",
       "      <th>ct_words</th>\n",
       "      <td>0.063081</td>\n",
       "    </tr>\n",
       "    <tr>\n",
       "      <th>text_sentiment</th>\n",
       "      <td>0.059782</td>\n",
       "    </tr>\n",
       "    <tr>\n",
       "      <th>ct_tags</th>\n",
       "      <td>0.057935</td>\n",
       "    </tr>\n",
       "    <tr>\n",
       "      <th>day</th>\n",
       "      <td>0.047270</td>\n",
       "    </tr>\n",
       "  </tbody>\n",
       "</table>\n",
       "</div>"
      ],
      "text/plain": [
       "                    Importance\n",
       "days_passed           0.112793\n",
       "followedBy            0.104345\n",
       "keyword_proportion    0.075599\n",
       "following             0.067840\n",
       "img/word              0.067047\n",
       "week_of_year          0.064149\n",
       "ct_words              0.063081\n",
       "text_sentiment        0.059782\n",
       "ct_tags               0.057935\n",
       "day                   0.047270"
      ]
     },
     "execution_count": 460,
     "metadata": {},
     "output_type": "execute_result"
    }
   ],
   "source": [
    "fi = pd.DataFrame(rf.feature_importances_, X_train.columns)\n",
    "fi.columns = ['Importance']\n",
    "fi.sort_values(by = 'Importance', ascending=False)[0:10]"
   ]
  },
  {
   "cell_type": "code",
   "execution_count": 461,
   "metadata": {},
   "outputs": [
    {
     "data": {
      "text/plain": [
       "<matplotlib.axes._subplots.AxesSubplot at 0x1a2608b208>"
      ]
     },
     "execution_count": 461,
     "metadata": {},
     "output_type": "execute_result"
    },
    {
     "data": {
      "image/png": "[encoded data removed]",
      "text/plain": [
       "<matplotlib.figure.Figure at 0x1a223b1cc0>"
      ]
     },
     "metadata": {},
     "output_type": "display_data"
    }
   ],
   "source": [
    "\n",
    "fi.sort_values(by = 'Importance', ascending=True).plot.barh(figsize = (10,6), legend = False, title = 'Feature Importance')\n"
   ]
  },
  {
   "cell_type": "code",
   "execution_count": 574,
   "metadata": {
    "collapsed": true
   },
   "outputs": [],
   "source": [
    "rf = RandomForestClassifier(min_samples_leaf=2, max_features='auto', n_estimators=100, random_state=10)\n",
    "rf.fit(X_train, y_train)\n",
    "val_pred_probs = rf.predict_proba(X_val)\n",
    "\n",
    "val_pred = rf.predict(X_val)"
   ]
  },
  {
   "cell_type": "code",
   "execution_count": 575,
   "metadata": {},
   "outputs": [
    {
     "name": "stdout",
     "output_type": "stream",
     "text": [
      "Confusion matrix\n",
      "[[247 137   1]\n",
      " [124 215   7]\n",
      " [ 15  92  10]]\n"
     ]
    },
    {
     "data": {
      "image/png": "[encoded data removed]",
      "text/plain": [
       "<matplotlib.figure.Figure at 0x1a2a082cf8>"
      ]
     },
     "metadata": {},
     "output_type": "display_data"
    }
   ],
   "source": [
    "# Compute confusion matrix\n",
    "cnf_matrix = confusion_matrix(y_val, val_pred)\n",
    "np.set_printoptions(precision=2)\n",
    "\n",
    "# Plot non-normalized confusion matrix\n",
    "plt.figure()\n",
    "plot_confusion_matrix(cnf_matrix, classes=rf.classes_,\n",
    "                      title='Confusion matrix')\n"
   ]
  },
  {
   "cell_type": "code",
   "execution_count": 590,
   "metadata": {},
   "outputs": [
    {
     "data": {
      "text/plain": [
       "0    1483\n",
       "1    1384\n",
       "2     524\n",
       "Name: new_claps, dtype: int64"
      ]
     },
     "execution_count": 590,
     "metadata": {},
     "output_type": "execute_result"
    }
   ],
   "source": [
    "y_train.value_counts()"
   ]
  },
  {
   "cell_type": "code",
   "execution_count": 591,
   "metadata": {},
   "outputs": [
    {
     "data": {
      "text/plain": [
       "0    385\n",
       "1    346\n",
       "2    117\n",
       "Name: new_claps, dtype: int64"
      ]
     },
     "execution_count": 591,
     "metadata": {},
     "output_type": "execute_result"
    }
   ],
   "source": [
    "y_val.value_counts()"
   ]
  },
  {
   "cell_type": "code",
   "execution_count": 594,
   "metadata": {},
   "outputs": [
    {
     "data": {
      "text/plain": [
       "1    444\n",
       "0    386\n",
       "2     18\n",
       "dtype: int64"
      ]
     },
     "execution_count": 594,
     "metadata": {},
     "output_type": "execute_result"
    }
   ],
   "source": [
    "pd.Series(val_pred).value_counts()"
   ]
  }
 ],
 "metadata": {
  "hide_input": false,
  "kernelspec": {
   "display_name": "Python 3",
   "language": "python",
   "name": "python3"
  },
  "language_info": {
   "codemirror_mode": {
    "name": "ipython",
    "version": 3
   },
   "file_extension": ".py",
   "mimetype": "text/x-python",
   "name": "python",
   "nbconvert_exporter": "python",
   "pygments_lexer": "ipython3",
   "version": "3.6.3"
  }
 },
 "nbformat": 4,
 "nbformat_minor": 2
}
